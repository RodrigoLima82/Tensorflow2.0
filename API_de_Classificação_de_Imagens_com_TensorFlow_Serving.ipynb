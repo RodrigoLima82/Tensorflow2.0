{
  "nbformat": 4,
  "nbformat_minor": 0,
  "metadata": {
    "colab": {
      "name": "API de Classificação de Imagens com TensorFlow Serving.ipynb",
      "provenance": [],
      "collapsed_sections": [],
      "include_colab_link": true
    },
    "kernelspec": {
      "name": "python3",
      "display_name": "Python 3"
    },
    "accelerator": "GPU"
  },
  "cells": [
    {
      "cell_type": "markdown",
      "metadata": {
        "id": "view-in-github",
        "colab_type": "text"
      },
      "source": [
        "<a href=\"https://colab.research.google.com/github/RodrigoLima82/Tensorflow2.0/blob/master/API_de_Classifica%C3%A7%C3%A3o_de_Imagens_com_TensorFlow_Serving.ipynb\" target=\"_parent\"><img src=\"https://colab.research.google.com/assets/colab-badge.svg\" alt=\"Open In Colab\"/></a>"
      ]
    },
    {
      "cell_type": "markdown",
      "metadata": {
        "id": "yCrzPgLp7W1h",
        "colab_type": "text"
      },
      "source": [
        "## Etapa 1: Instalação das bibliotecas"
      ]
    },
    {
      "cell_type": "code",
      "metadata": {
        "colab_type": "code",
        "id": "riAW3B6FFn7K",
        "colab": {}
      },
      "source": [
        "#!echo \"deb [arch=amd64] http://storage.googleapis.com/tensorflow-serving-apt stable tensorflow-model-server tensorflow-model-server-universal\" | sudo tee /etc/apt/sources.list.d/tensorflow-serving.list && curl https://storage.googleapis.com/tensorflow-serving-apt/tensorflow-serving.release.pub.gpg | sudo apt-key add -"
      ],
      "execution_count": 0,
      "outputs": []
    },
    {
      "cell_type": "code",
      "metadata": {
        "id": "WM7rhL12FqS8",
        "colab_type": "code",
        "colab": {
          "base_uri": "https://localhost:8080/",
          "height": 118
        },
        "outputId": "e7317c70-62c1-4f7e-b54c-5c370fea9171"
      },
      "source": [
        "!echo \"deb [arch=amd64] http://storage.googleapis.com/tensorflow-serving-apt stable tensorflow-model-server tensorflow-model-server-universal\" | sudo tee /etc/apt/sources.list.d/tensorflow-serving.list && \\\n",
        "curl https://storage.googleapis.com/tensorflow-serving-apt/tensorflow-serving.release.pub.gpg | sudo apt-key add -"
      ],
      "execution_count": 1,
      "outputs": [
        {
          "output_type": "stream",
          "text": [
            "deb [arch=amd64] http://storage.googleapis.com/tensorflow-serving-apt stable tensorflow-model-server tensorflow-model-server-universal\n",
            "  % Total    % Received % Xferd  Average Speed   Time    Time     Time  Current\n",
            "                                 Dload  Upload   Total   Spent    Left  Speed\n",
            "\r  0     0    0     0    0     0      0      0 --:--:-- --:--:-- --:--:--     0\r100  2943  100  2943    0     0  12262      0 --:--:-- --:--:-- --:--:-- 12262\n",
            "OK\n"
          ],
          "name": "stdout"
        }
      ]
    },
    {
      "cell_type": "code",
      "metadata": {
        "id": "-AoEpKnD94Lj",
        "colab_type": "code",
        "outputId": "d87d79ca-85b3-46fb-a470-bcac5f08c338",
        "colab": {
          "base_uri": "https://localhost:8080/",
          "height": 720
        }
      },
      "source": [
        "#!apt-get install tensorflow-model-server \n",
        "#!pip install tensorflow-serving-api\n",
        "!apt-get update && apt-get install tensorflow-model-server"
      ],
      "execution_count": 2,
      "outputs": [
        {
          "output_type": "stream",
          "text": [
            "\r0% [Working]\r            \rGet:1 http://storage.googleapis.com/tensorflow-serving-apt stable InRelease [3,012 B]\n",
            "\r0% [Connecting to cloud.r-project.org] [Connecting to developer.download.nvidia\r0% [Connecting to cloud.r-project.org] [Connecting to developer.download.nvidia\r0% [1 InRelease gpgv 3,012 B] [Connecting to archive.ubuntu.com] [Connecting to\r                                                                               \rGet:2 https://cloud.r-project.org/bin/linux/ubuntu bionic-cran35/ InRelease [3,626 B]\n",
            "\r0% [1 InRelease gpgv 3,012 B] [Connecting to archive.ubuntu.com] [Connecting to\r0% [Connecting to archive.ubuntu.com (91.189.88.173)] [Connecting to security.u\r0% [2 InRelease gpgv 3,626 B] [Connecting to archive.ubuntu.com (91.189.88.173)\r                                                                               \rIgn:3 https://developer.download.nvidia.com/compute/cuda/repos/ubuntu1804/x86_64  InRelease\n",
            "\r0% [2 InRelease gpgv 3,626 B] [Connecting to archive.ubuntu.com (91.189.88.173)\r0% [Connecting to archive.ubuntu.com (91.189.88.173)] [Connecting to security.u\r                                                                               \rIgn:4 https://developer.download.nvidia.com/compute/machine-learning/repos/ubuntu1804/x86_64  InRelease\n",
            "\r0% [Connecting to archive.ubuntu.com (91.189.88.173)] [Waiting for headers] [Wa\r                                                                               \rHit:5 https://developer.download.nvidia.com/compute/cuda/repos/ubuntu1804/x86_64  Release\n",
            "\r0% [Waiting for headers] [Waiting for headers] [Waiting for headers] [Waiting f\r0% [Release.gpg gpgv 564 B] [Waiting for headers] [Waiting for headers] [Waitin\r                                                                               \rHit:6 https://developer.download.nvidia.com/compute/machine-learning/repos/ubuntu1804/x86_64  Release\n",
            "\r0% [Release.gpg gpgv 564 B] [Waiting for headers] [Waiting for headers] [Waitin\r                                                                               \rGet:7 http://storage.googleapis.com/tensorflow-serving-apt stable/tensorflow-model-server amd64 Packages [354 B]\n",
            "\r0% [Release.gpg gpgv 564 B] [Waiting for headers] [Waiting for headers] [Waitin\r0% [Release.gpg gpgv 564 B] [Waiting for headers] [Waiting for headers] [Waitin\r0% [7 Packages store 0 B] [Release.gpg gpgv 564 B] [Waiting for headers] [Waiti\r0% [Release.gpg gpgv 564 B] [Waiting for headers] [Waiting for headers] [Waitin\r                                                                               \rHit:8 http://ppa.launchpad.net/graphics-drivers/ppa/ubuntu bionic InRelease\n",
            "Get:9 http://security.ubuntu.com/ubuntu bionic-security InRelease [88.7 kB]\n",
            "Get:12 http://ppa.launchpad.net/marutter/c2d4u3.5/ubuntu bionic InRelease [15.4 kB]\n",
            "Get:13 http://storage.googleapis.com/tensorflow-serving-apt stable/tensorflow-model-server-universal amd64 Packages [364 B]\n",
            "Hit:14 http://archive.ubuntu.com/ubuntu bionic InRelease\n",
            "Get:15 http://security.ubuntu.com/ubuntu bionic-security/universe amd64 Packages [789 kB]\n",
            "Get:16 http://ppa.launchpad.net/marutter/c2d4u3.5/ubuntu bionic/main Sources [1,735 kB]\n",
            "Get:17 http://archive.ubuntu.com/ubuntu bionic-updates InRelease [88.7 kB]\n",
            "Get:18 http://security.ubuntu.com/ubuntu bionic-security/main amd64 Packages [738 kB]\n",
            "Get:19 http://archive.ubuntu.com/ubuntu bionic-backports InRelease [74.6 kB]\n",
            "Get:20 http://archive.ubuntu.com/ubuntu bionic-updates/main amd64 Packages [1,034 kB]\n",
            "Get:21 http://archive.ubuntu.com/ubuntu bionic-updates/restricted amd64 Packages [29.9 kB]\n",
            "Get:22 http://archive.ubuntu.com/ubuntu bionic-updates/multiverse amd64 Packages [9,549 B]\n",
            "Get:23 http://archive.ubuntu.com/ubuntu bionic-updates/universe amd64 Packages [1,316 kB]\n",
            "Get:24 http://ppa.launchpad.net/marutter/c2d4u3.5/ubuntu bionic/main amd64 Packages [837 kB]\n",
            "Fetched 6,764 kB in 6s (1,184 kB/s)\n",
            "Reading package lists... Done\n",
            "Reading package lists... Done\n",
            "Building dependency tree       \n",
            "Reading state information... Done\n",
            "The following package was automatically installed and is no longer required:\n",
            "  libnvidia-common-430\n",
            "Use 'apt autoremove' to remove it.\n",
            "The following NEW packages will be installed:\n",
            "  tensorflow-model-server\n",
            "0 upgraded, 1 newly installed, 0 to remove and 53 not upgraded.\n",
            "Need to get 140 MB of archives.\n",
            "After this operation, 0 B of additional disk space will be used.\n",
            "Get:1 http://storage.googleapis.com/tensorflow-serving-apt stable/tensorflow-model-server amd64 tensorflow-model-server all 2.0.0 [140 MB]\n",
            "Fetched 140 MB in 2s (59.0 MB/s)\n",
            "Selecting previously unselected package tensorflow-model-server.\n",
            "(Reading database ... 145605 files and directories currently installed.)\n",
            "Preparing to unpack .../tensorflow-model-server_2.0.0_all.deb ...\n",
            "Unpacking tensorflow-model-server (2.0.0) ...\n",
            "Setting up tensorflow-model-server (2.0.0) ...\n"
          ],
          "name": "stdout"
        }
      ]
    },
    {
      "cell_type": "code",
      "metadata": {
        "id": "a1cAehxr-M9p",
        "colab_type": "code",
        "outputId": "c7182908-9822-42b8-a0c9-1c09e9b2902c",
        "colab": {
          "base_uri": "https://localhost:8080/",
          "height": 622
        }
      },
      "source": [
        "!pip install tensorflow-gpu==1.13.1"
      ],
      "execution_count": 3,
      "outputs": [
        {
          "output_type": "stream",
          "text": [
            "Collecting tensorflow-gpu==1.13.1\n",
            "\u001b[?25l  Downloading https://files.pythonhosted.org/packages/7b/b1/0ad4ae02e17ddd62109cd54c291e311c4b5fd09b4d0678d3d6ce4159b0f0/tensorflow_gpu-1.13.1-cp36-cp36m-manylinux1_x86_64.whl (345.2MB)\n",
            "\u001b[K     |████████████████████████████████| 345.2MB 51kB/s \n",
            "\u001b[?25hCollecting tensorboard<1.14.0,>=1.13.0\n",
            "\u001b[?25l  Downloading https://files.pythonhosted.org/packages/0f/39/bdd75b08a6fba41f098b6cb091b9e8c7a80e1b4d679a581a0ccd17b10373/tensorboard-1.13.1-py3-none-any.whl (3.2MB)\n",
            "\u001b[K     |████████████████████████████████| 3.2MB 1.2MB/s \n",
            "\u001b[?25hRequirement already satisfied: wheel>=0.26 in /usr/local/lib/python3.6/dist-packages (from tensorflow-gpu==1.13.1) (0.33.6)\n",
            "Requirement already satisfied: keras-applications>=1.0.6 in /usr/local/lib/python3.6/dist-packages (from tensorflow-gpu==1.13.1) (1.0.8)\n",
            "Requirement already satisfied: protobuf>=3.6.1 in /usr/local/lib/python3.6/dist-packages (from tensorflow-gpu==1.13.1) (3.10.0)\n",
            "Requirement already satisfied: numpy>=1.13.3 in /usr/local/lib/python3.6/dist-packages (from tensorflow-gpu==1.13.1) (1.17.4)\n",
            "Requirement already satisfied: grpcio>=1.8.6 in /usr/local/lib/python3.6/dist-packages (from tensorflow-gpu==1.13.1) (1.15.0)\n",
            "Requirement already satisfied: keras-preprocessing>=1.0.5 in /usr/local/lib/python3.6/dist-packages (from tensorflow-gpu==1.13.1) (1.1.0)\n",
            "Requirement already satisfied: astor>=0.6.0 in /usr/local/lib/python3.6/dist-packages (from tensorflow-gpu==1.13.1) (0.8.0)\n",
            "Requirement already satisfied: absl-py>=0.1.6 in /usr/local/lib/python3.6/dist-packages (from tensorflow-gpu==1.13.1) (0.8.1)\n",
            "Requirement already satisfied: gast>=0.2.0 in /usr/local/lib/python3.6/dist-packages (from tensorflow-gpu==1.13.1) (0.2.2)\n",
            "Requirement already satisfied: six>=1.10.0 in /usr/local/lib/python3.6/dist-packages (from tensorflow-gpu==1.13.1) (1.12.0)\n",
            "Requirement already satisfied: termcolor>=1.1.0 in /usr/local/lib/python3.6/dist-packages (from tensorflow-gpu==1.13.1) (1.1.0)\n",
            "Collecting tensorflow-estimator<1.14.0rc0,>=1.13.0\n",
            "\u001b[?25l  Downloading https://files.pythonhosted.org/packages/bb/48/13f49fc3fa0fdf916aa1419013bb8f2ad09674c275b4046d5ee669a46873/tensorflow_estimator-1.13.0-py2.py3-none-any.whl (367kB)\n",
            "\u001b[K     |████████████████████████████████| 368kB 1.4MB/s \n",
            "\u001b[?25hRequirement already satisfied: werkzeug>=0.11.15 in /usr/local/lib/python3.6/dist-packages (from tensorboard<1.14.0,>=1.13.0->tensorflow-gpu==1.13.1) (0.16.0)\n",
            "Requirement already satisfied: markdown>=2.6.8 in /usr/local/lib/python3.6/dist-packages (from tensorboard<1.14.0,>=1.13.0->tensorflow-gpu==1.13.1) (3.1.1)\n",
            "Requirement already satisfied: h5py in /usr/local/lib/python3.6/dist-packages (from keras-applications>=1.0.6->tensorflow-gpu==1.13.1) (2.8.0)\n",
            "Requirement already satisfied: setuptools in /usr/local/lib/python3.6/dist-packages (from protobuf>=3.6.1->tensorflow-gpu==1.13.1) (41.6.0)\n",
            "Collecting mock>=2.0.0\n",
            "  Downloading https://files.pythonhosted.org/packages/05/d2/f94e68be6b17f46d2c353564da56e6fb89ef09faeeff3313a046cb810ca9/mock-3.0.5-py2.py3-none-any.whl\n",
            "\u001b[31mERROR: tensorflow 1.15.0 has requirement tensorboard<1.16.0,>=1.15.0, but you'll have tensorboard 1.13.1 which is incompatible.\u001b[0m\n",
            "\u001b[31mERROR: tensorflow 1.15.0 has requirement tensorflow-estimator==1.15.1, but you'll have tensorflow-estimator 1.13.0 which is incompatible.\u001b[0m\n",
            "Installing collected packages: tensorboard, mock, tensorflow-estimator, tensorflow-gpu\n",
            "  Found existing installation: tensorboard 1.15.0\n",
            "    Uninstalling tensorboard-1.15.0:\n",
            "      Successfully uninstalled tensorboard-1.15.0\n",
            "  Found existing installation: tensorflow-estimator 1.15.1\n",
            "    Uninstalling tensorflow-estimator-1.15.1:\n",
            "      Successfully uninstalled tensorflow-estimator-1.15.1\n",
            "Successfully installed mock-3.0.5 tensorboard-1.13.1 tensorflow-estimator-1.13.0 tensorflow-gpu-1.13.1\n"
          ],
          "name": "stdout"
        }
      ]
    },
    {
      "cell_type": "code",
      "metadata": {
        "id": "zfxOPCl7-Wp7",
        "colab_type": "code",
        "outputId": "08185037-beda-4c43-ee4c-5f12d2515658",
        "colab": {
          "base_uri": "https://localhost:8080/",
          "height": 118
        }
      },
      "source": [
        "!pip install requests"
      ],
      "execution_count": 4,
      "outputs": [
        {
          "output_type": "stream",
          "text": [
            "Requirement already satisfied: requests in /usr/local/lib/python3.6/dist-packages (2.21.0)\n",
            "Requirement already satisfied: idna<2.9,>=2.5 in /usr/local/lib/python3.6/dist-packages (from requests) (2.8)\n",
            "Requirement already satisfied: chardet<3.1.0,>=3.0.2 in /usr/local/lib/python3.6/dist-packages (from requests) (3.0.4)\n",
            "Requirement already satisfied: urllib3<1.25,>=1.21.1 in /usr/local/lib/python3.6/dist-packages (from requests) (1.24.3)\n",
            "Requirement already satisfied: certifi>=2017.4.17 in /usr/local/lib/python3.6/dist-packages (from requests) (2019.9.11)\n"
          ],
          "name": "stdout"
        }
      ]
    },
    {
      "cell_type": "markdown",
      "metadata": {
        "id": "qsgbM_R2-ud_",
        "colab_type": "text"
      },
      "source": [
        "## Etapa 2: Importação das bibliotecas"
      ]
    },
    {
      "cell_type": "code",
      "metadata": {
        "id": "Y3taHerg-nkS",
        "colab_type": "code",
        "outputId": "d6c5f220-c207-4920-ebd5-72ea70a41ed7",
        "colab": {
          "base_uri": "https://localhost:8080/",
          "height": 308
        }
      },
      "source": [
        "import os\n",
        "import json\n",
        "import random\n",
        "import requests\n",
        "import subprocess\n",
        "import numpy as np\n",
        "import tensorflow as tf\n",
        "import matplotlib.pyplot as plt\n",
        "\n",
        "from tensorflow.keras.datasets import cifar10\n",
        "\n",
        "%matplotlib inline\n",
        "tf.__version__"
      ],
      "execution_count": 5,
      "outputs": [
        {
          "output_type": "stream",
          "text": [
            "/usr/local/lib/python3.6/dist-packages/tensorflow/python/framework/dtypes.py:526: FutureWarning: Passing (type, 1) or '1type' as a synonym of type is deprecated; in a future version of numpy, it will be understood as (type, (1,)) / '(1,)type'.\n",
            "  _np_qint8 = np.dtype([(\"qint8\", np.int8, 1)])\n",
            "/usr/local/lib/python3.6/dist-packages/tensorflow/python/framework/dtypes.py:527: FutureWarning: Passing (type, 1) or '1type' as a synonym of type is deprecated; in a future version of numpy, it will be understood as (type, (1,)) / '(1,)type'.\n",
            "  _np_quint8 = np.dtype([(\"quint8\", np.uint8, 1)])\n",
            "/usr/local/lib/python3.6/dist-packages/tensorflow/python/framework/dtypes.py:528: FutureWarning: Passing (type, 1) or '1type' as a synonym of type is deprecated; in a future version of numpy, it will be understood as (type, (1,)) / '(1,)type'.\n",
            "  _np_qint16 = np.dtype([(\"qint16\", np.int16, 1)])\n",
            "/usr/local/lib/python3.6/dist-packages/tensorflow/python/framework/dtypes.py:529: FutureWarning: Passing (type, 1) or '1type' as a synonym of type is deprecated; in a future version of numpy, it will be understood as (type, (1,)) / '(1,)type'.\n",
            "  _np_quint16 = np.dtype([(\"quint16\", np.uint16, 1)])\n",
            "/usr/local/lib/python3.6/dist-packages/tensorflow/python/framework/dtypes.py:530: FutureWarning: Passing (type, 1) or '1type' as a synonym of type is deprecated; in a future version of numpy, it will be understood as (type, (1,)) / '(1,)type'.\n",
            "  _np_qint32 = np.dtype([(\"qint32\", np.int32, 1)])\n",
            "/usr/local/lib/python3.6/dist-packages/tensorflow/python/framework/dtypes.py:535: FutureWarning: Passing (type, 1) or '1type' as a synonym of type is deprecated; in a future version of numpy, it will be understood as (type, (1,)) / '(1,)type'.\n",
            "  np_resource = np.dtype([(\"resource\", np.ubyte, 1)])\n"
          ],
          "name": "stderr"
        },
        {
          "output_type": "display_data",
          "data": {
            "text/html": [
              "<p style=\"color: red;\">\n",
              "The default version of TensorFlow in Colab will soon switch to TensorFlow 2.x.<br>\n",
              "We recommend you <a href=\"https://www.tensorflow.org/guide/migrate\" target=\"_blank\">upgrade</a> now \n",
              "or ensure your notebook will continue to use TensorFlow 1.x via the <code>%tensorflow_version 1.x</code> magic:\n",
              "<a href=\"https://colab.research.google.com/notebooks/tensorflow_version.ipynb\" target=\"_blank\">more info</a>.</p>\n"
            ],
            "text/plain": [
              "<IPython.core.display.HTML object>"
            ]
          },
          "metadata": {
            "tags": []
          }
        },
        {
          "output_type": "execute_result",
          "data": {
            "text/plain": [
              "'1.13.1'"
            ]
          },
          "metadata": {
            "tags": []
          },
          "execution_count": 5
        }
      ]
    },
    {
      "cell_type": "markdown",
      "metadata": {
        "id": "90mWV1g6_TSt",
        "colab_type": "text"
      },
      "source": [
        "## Etapa 3: Pré-processamento"
      ]
    },
    {
      "cell_type": "markdown",
      "metadata": {
        "id": "dJsURBeA_XEe",
        "colab_type": "text"
      },
      "source": [
        "### Carregando a base de dados"
      ]
    },
    {
      "cell_type": "code",
      "metadata": {
        "id": "zj89bRDaYV2c",
        "colab_type": "code",
        "colab": {
          "base_uri": "https://localhost:8080/",
          "height": 50
        },
        "outputId": "5ed2d96c-6d9f-4508-f38d-28813d26c306"
      },
      "source": [
        "(X_train, y_train), (X_test, y_test) = cifar10.load_data()"
      ],
      "execution_count": 6,
      "outputs": [
        {
          "output_type": "stream",
          "text": [
            "Downloading data from https://www.cs.toronto.edu/~kriz/cifar-10-python.tar.gz\n",
            "170500096/170498071 [==============================] - 11s 0us/step\n"
          ],
          "name": "stdout"
        }
      ]
    },
    {
      "cell_type": "code",
      "metadata": {
        "id": "OqQV6E-vYcbh",
        "colab_type": "code",
        "colab": {}
      },
      "source": [
        "class_names = ['airplane', 'automobile', 'bird', 'cat', 'deer', 'dog', 'frog', 'horse', 'ship', 'truck']"
      ],
      "execution_count": 0,
      "outputs": []
    },
    {
      "cell_type": "markdown",
      "metadata": {
        "id": "B_adA5GI_ZGK",
        "colab_type": "text"
      },
      "source": [
        "### Normalização das imagens"
      ]
    },
    {
      "cell_type": "code",
      "metadata": {
        "id": "pTFerN2jYrRk",
        "colab_type": "code",
        "colab": {}
      },
      "source": [
        "X_train = X_train / 255.0\n",
        "X_test = X_test / 255.0"
      ],
      "execution_count": 0,
      "outputs": []
    },
    {
      "cell_type": "code",
      "metadata": {
        "id": "kWyXhqtQYxjC",
        "colab_type": "code",
        "outputId": "6b597903-007c-4d01-cd9f-023f72588c16",
        "colab": {
          "base_uri": "https://localhost:8080/",
          "height": 33
        }
      },
      "source": [
        "X_train.shape"
      ],
      "execution_count": 9,
      "outputs": [
        {
          "output_type": "execute_result",
          "data": {
            "text/plain": [
              "(50000, 32, 32, 3)"
            ]
          },
          "metadata": {
            "tags": []
          },
          "execution_count": 9
        }
      ]
    },
    {
      "cell_type": "code",
      "metadata": {
        "id": "UsvVsl5UbY5x",
        "colab_type": "code",
        "outputId": "97e35d96-3546-4171-f7f4-68c5bbcb68dc",
        "colab": {
          "base_uri": "https://localhost:8080/",
          "height": 33
        }
      },
      "source": [
        "X_test.shape"
      ],
      "execution_count": 10,
      "outputs": [
        {
          "output_type": "execute_result",
          "data": {
            "text/plain": [
              "(10000, 32, 32, 3)"
            ]
          },
          "metadata": {
            "tags": []
          },
          "execution_count": 10
        }
      ]
    },
    {
      "cell_type": "code",
      "metadata": {
        "id": "kKBLdF7W9LHS",
        "colab_type": "code",
        "colab": {}
      },
      "source": [
        "y_test"
      ],
      "execution_count": 0,
      "outputs": []
    },
    {
      "cell_type": "markdown",
      "metadata": {
        "id": "HO6nL_9sBLPo",
        "colab_type": "text"
      },
      "source": [
        "## Etapa 4: Definição do modelo\n",
        "\n",
        "NOTA: Estamos usando o mesmo modelo da seção sobre Redes Neurais Convolucionais"
      ]
    },
    {
      "cell_type": "code",
      "metadata": {
        "id": "FHyAvU8OA_aq",
        "colab_type": "code",
        "colab": {
          "base_uri": "https://localhost:8080/",
          "height": 86
        },
        "outputId": "2f8edab4-b82e-4315-d891-2aaddd686095"
      },
      "source": [
        "model = tf.keras.models.Sequential()\n",
        "model.add(tf.keras.layers.Conv2D(filters=32, kernel_size=3, padding=\"same\", activation=\"relu\", input_shape=[32, 32, 3]))\n",
        "model.add(tf.keras.layers.Conv2D(filters=32, kernel_size=3, padding=\"same\", activation=\"relu\"))\n",
        "model.add(tf.keras.layers.MaxPool2D(pool_size=2, strides=2, padding='valid'))\n",
        "model.add(tf.keras.layers.Conv2D(filters=64, kernel_size=3, padding=\"same\", activation=\"relu\"))\n",
        "model.add(tf.keras.layers.Conv2D(filters=64, kernel_size=3, padding=\"same\", activation=\"relu\"))\n",
        "model.add(tf.keras.layers.MaxPool2D(pool_size=2, strides=2, padding='valid'))\n",
        "model.add(tf.keras.layers.Flatten())\n",
        "model.add(tf.keras.layers.Dense(units=128, activation='relu'))\n",
        "model.add(tf.keras.layers.Dense(units=10, activation='softmax'))"
      ],
      "execution_count": 11,
      "outputs": [
        {
          "output_type": "stream",
          "text": [
            "WARNING:tensorflow:From /usr/local/lib/python3.6/dist-packages/tensorflow/python/ops/resource_variable_ops.py:435: colocate_with (from tensorflow.python.framework.ops) is deprecated and will be removed in a future version.\n",
            "Instructions for updating:\n",
            "Colocations handled automatically by placer.\n"
          ],
          "name": "stdout"
        }
      ]
    },
    {
      "cell_type": "markdown",
      "metadata": {
        "id": "J-7vFhykBgMj",
        "colab_type": "text"
      },
      "source": [
        "### Compilando o modelo"
      ]
    },
    {
      "cell_type": "code",
      "metadata": {
        "id": "5nqrVFn3BkeS",
        "colab_type": "code",
        "colab": {}
      },
      "source": [
        "model.compile(optimizer='Adam', \n",
        "              loss='sparse_categorical_crossentropy', \n",
        "              metrics=['sparse_categorical_accuracy'])"
      ],
      "execution_count": 0,
      "outputs": []
    },
    {
      "cell_type": "markdown",
      "metadata": {
        "id": "JJ1X_hgBBmx9",
        "colab_type": "text"
      },
      "source": [
        "### Treinando o modelo"
      ]
    },
    {
      "cell_type": "code",
      "metadata": {
        "id": "I7FSeHUkBpUq",
        "colab_type": "code",
        "outputId": "a129273c-177e-4423-f45e-9efe442e26eb",
        "colab": {
          "base_uri": "https://localhost:8080/",
          "height": 378
        }
      },
      "source": [
        "model.fit(X_train, \n",
        "          y_train, \n",
        "          batch_size=128, \n",
        "          epochs=10)"
      ],
      "execution_count": 14,
      "outputs": [
        {
          "output_type": "stream",
          "text": [
            "Epoch 1/10\n",
            "50000/50000 [==============================] - 11s 226us/sample - loss: 1.0345 - sparse_categorical_accuracy: 0.6360\n",
            "Epoch 2/10\n",
            "50000/50000 [==============================] - 11s 222us/sample - loss: 0.8577 - sparse_categorical_accuracy: 0.6992\n",
            "Epoch 3/10\n",
            "50000/50000 [==============================] - 11s 222us/sample - loss: 0.7390 - sparse_categorical_accuracy: 0.7419\n",
            "Epoch 4/10\n",
            "50000/50000 [==============================] - 11s 222us/sample - loss: 0.6486 - sparse_categorical_accuracy: 0.7729\n",
            "Epoch 5/10\n",
            "50000/50000 [==============================] - 11s 222us/sample - loss: 0.5614 - sparse_categorical_accuracy: 0.8038\n",
            "Epoch 6/10\n",
            "50000/50000 [==============================] - 11s 222us/sample - loss: 0.4783 - sparse_categorical_accuracy: 0.8352\n",
            "Epoch 7/10\n",
            "50000/50000 [==============================] - 11s 224us/sample - loss: 0.4058 - sparse_categorical_accuracy: 0.8586\n",
            "Epoch 8/10\n",
            "50000/50000 [==============================] - 11s 222us/sample - loss: 0.3321 - sparse_categorical_accuracy: 0.8844\n",
            "Epoch 9/10\n",
            "50000/50000 [==============================] - 11s 222us/sample - loss: 0.2634 - sparse_categorical_accuracy: 0.9075\n",
            "Epoch 10/10\n",
            "50000/50000 [==============================] - 11s 218us/sample - loss: 0.2078 - sparse_categorical_accuracy: 0.9274\n"
          ],
          "name": "stdout"
        },
        {
          "output_type": "execute_result",
          "data": {
            "text/plain": [
              "<tensorflow.python.keras.callbacks.History at 0x7f94237b24e0>"
            ]
          },
          "metadata": {
            "tags": []
          },
          "execution_count": 14
        }
      ]
    },
    {
      "cell_type": "markdown",
      "metadata": {
        "id": "g6k_gnv5BqdT",
        "colab_type": "text"
      },
      "source": [
        "### Avaliação do modelo"
      ]
    },
    {
      "cell_type": "code",
      "metadata": {
        "id": "l0nHalVeBtAy",
        "colab_type": "code",
        "outputId": "203004f0-07a2-4920-9bef-778510719198",
        "colab": {
          "base_uri": "https://localhost:8080/",
          "height": 53
        }
      },
      "source": [
        "test_loss, test_accuracy = model.evaluate(X_test, y_test)"
      ],
      "execution_count": 15,
      "outputs": [
        {
          "output_type": "stream",
          "text": [
            "10000/10000 [==============================] - 2s 175us/sample - loss: 1.0484 - sparse_categorical_accuracy: 0.7388\n"
          ],
          "name": "stdout"
        }
      ]
    },
    {
      "cell_type": "code",
      "metadata": {
        "id": "u9q7jsTuBuxT",
        "colab_type": "code",
        "outputId": "4565cadf-e63e-4eac-e0b7-f2db9c925483",
        "colab": {
          "base_uri": "https://localhost:8080/",
          "height": 33
        }
      },
      "source": [
        "print(\"Test accuracy is {}\".format(test_accuracy))"
      ],
      "execution_count": 16,
      "outputs": [
        {
          "output_type": "stream",
          "text": [
            "Test accuracy is 0.7387999892234802\n"
          ],
          "name": "stdout"
        }
      ]
    },
    {
      "cell_type": "markdown",
      "metadata": {
        "id": "945L3-2rDjFe",
        "colab_type": "text"
      },
      "source": [
        "## Etapa 5: Salvando o modelo para produção"
      ]
    },
    {
      "cell_type": "markdown",
      "metadata": {
        "id": "5a5uCiniDmgY",
        "colab_type": "text"
      },
      "source": [
        "### Criando o diretório para o modelo"
      ]
    },
    {
      "cell_type": "code",
      "metadata": {
        "id": "AWLAkNt1-SaC",
        "colab_type": "code",
        "colab": {}
      },
      "source": [
        "model_dir = \"model/\"\n",
        "version = 1"
      ],
      "execution_count": 0,
      "outputs": []
    },
    {
      "cell_type": "code",
      "metadata": {
        "id": "sl5eFF4K-a0C",
        "colab_type": "code",
        "outputId": "cbd29057-685b-459c-e7b9-5e3a4477411e",
        "colab": {
          "base_uri": "https://localhost:8080/",
          "height": 33
        }
      },
      "source": [
        "export_path = os.path.join(model_dir, str(version))\n",
        "export_path"
      ],
      "execution_count": 18,
      "outputs": [
        {
          "output_type": "execute_result",
          "data": {
            "text/plain": [
              "'model/1'"
            ]
          },
          "metadata": {
            "tags": []
          },
          "execution_count": 18
        }
      ]
    },
    {
      "cell_type": "code",
      "metadata": {
        "id": "PuITmRAc-mQT",
        "colab_type": "code",
        "colab": {}
      },
      "source": [
        "if os.path.isdir(export_path):\n",
        "  !rm -r {export_path}"
      ],
      "execution_count": 0,
      "outputs": []
    },
    {
      "cell_type": "markdown",
      "metadata": {
        "id": "0RA2HuIUDrDQ",
        "colab_type": "text"
      },
      "source": [
        "### Salvando o modelo para o TensorFlow Serving"
      ]
    },
    {
      "cell_type": "code",
      "metadata": {
        "id": "V3vO0Hqc_W2h",
        "colab_type": "code",
        "outputId": "6857de76-2c58-4697-c4ef-a931e417de0b",
        "colab": {
          "base_uri": "https://localhost:8080/",
          "height": 33
        }
      },
      "source": [
        "model.input"
      ],
      "execution_count": 20,
      "outputs": [
        {
          "output_type": "execute_result",
          "data": {
            "text/plain": [
              "<tf.Tensor 'conv2d_input:0' shape=(?, 32, 32, 3) dtype=float32>"
            ]
          },
          "metadata": {
            "tags": []
          },
          "execution_count": 20
        }
      ]
    },
    {
      "cell_type": "code",
      "metadata": {
        "id": "LZ2VMaPH_t6a",
        "colab_type": "code",
        "outputId": "3ace152d-d771-42f9-92a3-b7154658fbcc",
        "colab": {
          "base_uri": "https://localhost:8080/",
          "height": 33
        }
      },
      "source": [
        "model.outputs"
      ],
      "execution_count": 21,
      "outputs": [
        {
          "output_type": "execute_result",
          "data": {
            "text/plain": [
              "[<tf.Tensor 'dense_1/Softmax:0' shape=(?, 10) dtype=float32>]"
            ]
          },
          "metadata": {
            "tags": []
          },
          "execution_count": 21
        }
      ]
    },
    {
      "cell_type": "code",
      "metadata": {
        "id": "O0G_Xdy3_5Dd",
        "colab_type": "code",
        "colab": {}
      },
      "source": [
        "o = {t.name: t for t in model.outputs}"
      ],
      "execution_count": 0,
      "outputs": []
    },
    {
      "cell_type": "code",
      "metadata": {
        "id": "SuWVEFKi_8nr",
        "colab_type": "code",
        "outputId": "9d1b9241-9446-4eb1-9a7b-e410319ba3a6",
        "colab": {
          "base_uri": "https://localhost:8080/",
          "height": 33
        }
      },
      "source": [
        "o"
      ],
      "execution_count": 23,
      "outputs": [
        {
          "output_type": "execute_result",
          "data": {
            "text/plain": [
              "{'dense_1/Softmax:0': <tf.Tensor 'dense_1/Softmax:0' shape=(?, 10) dtype=float32>}"
            ]
          },
          "metadata": {
            "tags": []
          },
          "execution_count": 23
        }
      ]
    },
    {
      "cell_type": "code",
      "metadata": {
        "id": "hpiYG5Do-5vp",
        "colab_type": "code",
        "outputId": "c6b64041-3804-4cc6-8c3b-44bdc3732fa9",
        "colab": {
          "base_uri": "https://localhost:8080/",
          "height": 183
        }
      },
      "source": [
        "tf.saved_model.simple_save(tf.keras.backend.get_session(), export_dir = export_path,\n",
        "                           inputs = {\"input_image\": model.input},\n",
        "                           outputs = {t.name: t for t in model.outputs})"
      ],
      "execution_count": 24,
      "outputs": [
        {
          "output_type": "stream",
          "text": [
            "WARNING:tensorflow:From <ipython-input-24-89facc26b84a>:3: simple_save (from tensorflow.python.saved_model.simple_save) is deprecated and will be removed in a future version.\n",
            "Instructions for updating:\n",
            "This function will only be available through the v1 compatibility library as tf.compat.v1.saved_model.simple_save.\n",
            "WARNING:tensorflow:From /usr/local/lib/python3.6/dist-packages/tensorflow/python/saved_model/signature_def_utils_impl.py:205: build_tensor_info (from tensorflow.python.saved_model.utils_impl) is deprecated and will be removed in a future version.\n",
            "Instructions for updating:\n",
            "This function will only be available through the v1 compatibility library as tf.compat.v1.saved_model.utils.build_tensor_info or tf.compat.v1.saved_model.build_tensor_info.\n",
            "INFO:tensorflow:Assets added to graph.\n",
            "INFO:tensorflow:No assets to write.\n",
            "INFO:tensorflow:SavedModel written to: model/1/saved_model.pb\n"
          ],
          "name": "stdout"
        }
      ]
    },
    {
      "cell_type": "markdown",
      "metadata": {
        "id": "1o8BlXcBFvIm",
        "colab_type": "text"
      },
      "source": [
        "## Etapa 6: Configuração do ambiente de produção"
      ]
    },
    {
      "cell_type": "markdown",
      "metadata": {
        "id": "rSFWzxOrF0ft",
        "colab_type": "text"
      },
      "source": [
        "### Exportando o MODEL_DIR para as variáveis de ambiente"
      ]
    },
    {
      "cell_type": "code",
      "metadata": {
        "id": "Gt_EZ4IEB0IU",
        "colab_type": "code",
        "colab": {}
      },
      "source": [
        "os.environ[\"model_dir\"] = os.path.abspath(model_dir)"
      ],
      "execution_count": 0,
      "outputs": []
    },
    {
      "cell_type": "markdown",
      "metadata": {
        "id": "8TXejqj5F5oj",
        "colab_type": "text"
      },
      "source": [
        "### Executando a API TensorFlow Serving REST"
      ]
    },
    {
      "cell_type": "code",
      "metadata": {
        "id": "Pln1AJHKCPt6",
        "colab_type": "code",
        "outputId": "4cc236aa-bdc4-4fab-e3fc-e4cc83e9f432",
        "colab": {
          "base_uri": "https://localhost:8080/",
          "height": 33
        }
      },
      "source": [
        "%%bash --bg\n",
        "nohup tensorflow_model_server --rest_api_port=8501 --model_name=cifar10 --model_base_path=\"${model_dir}\" >server.log 2>&1"
      ],
      "execution_count": 26,
      "outputs": [
        {
          "output_type": "stream",
          "text": [
            "Starting job # 0 in a separate thread.\n"
          ],
          "name": "stdout"
        }
      ]
    },
    {
      "cell_type": "code",
      "metadata": {
        "id": "JrDmb-50DByK",
        "colab_type": "code",
        "outputId": "d77b76e8-6015-44e6-b4e4-10a742aa94fc",
        "colab": {
          "base_uri": "https://localhost:8080/",
          "height": 200
        }
      },
      "source": [
        "!tail server.log"
      ],
      "execution_count": 27,
      "outputs": [
        {
          "output_type": "stream",
          "text": [
            "2019-11-27 18:58:31.059978: I external/org_tensorflow/tensorflow/cc/saved_model/reader.cc:54] Reading meta graph with tags { serve }\n",
            "2019-11-27 18:58:31.063429: I external/org_tensorflow/tensorflow/core/platform/cpu_feature_guard.cc:142] Your CPU supports instructions that this TensorFlow binary was not compiled to use: AVX2 FMA\n",
            "2019-11-27 18:58:31.083906: I external/org_tensorflow/tensorflow/cc/saved_model/loader.cc:202] Restoring SavedModel bundle.\n",
            "2019-11-27 18:58:31.129399: I external/org_tensorflow/tensorflow/cc/saved_model/loader.cc:311] SavedModel load for tags { serve }; Status: success. Took 72736 microseconds.\n",
            "2019-11-27 18:58:31.130824: I tensorflow_serving/servables/tensorflow/saved_model_warmup.cc:105] No warmup data file found at /content/model/1/assets.extra/tf_serving_warmup_requests\n",
            "2019-11-27 18:58:31.130929: I tensorflow_serving/core/loader_harness.cc:87] Successfully loaded servable version {name: cifar10 version: 1}\n",
            "2019-11-27 18:58:31.132302: I tensorflow_serving/model_servers/server.cc:353] Running gRPC ModelServer at 0.0.0.0:8500 ...\n",
            "[warn] getaddrinfo: address family for nodename not supported\n",
            "2019-11-27 18:58:31.132991: I tensorflow_serving/model_servers/server.cc:373] Exporting HTTP/REST API at:localhost:8501 ...\n",
            "[evhttp_server.cc : 238] NET_LOG: Entering the event loop ...\n"
          ],
          "name": "stdout"
        }
      ]
    },
    {
      "cell_type": "markdown",
      "metadata": {
        "id": "ICEqKpKUOC2F",
        "colab_type": "text"
      },
      "source": [
        "## Etapa 7: Criando a primeira requisição POST"
      ]
    },
    {
      "cell_type": "code",
      "metadata": {
        "id": "blrM1Sg8IEGf",
        "colab_type": "code",
        "colab": {}
      },
      "source": [
        "random_image = np.random.randint(0, len(X_test))"
      ],
      "execution_count": 0,
      "outputs": []
    },
    {
      "cell_type": "code",
      "metadata": {
        "id": "VPQf6ZwxIM4L",
        "colab_type": "code",
        "outputId": "bb342d41-c4f6-4c31-a10e-1512a56639e7",
        "colab": {
          "base_uri": "https://localhost:8080/",
          "height": 33
        }
      },
      "source": [
        "random_image"
      ],
      "execution_count": 29,
      "outputs": [
        {
          "output_type": "execute_result",
          "data": {
            "text/plain": [
              "5371"
            ]
          },
          "metadata": {
            "tags": []
          },
          "execution_count": 29
        }
      ]
    },
    {
      "cell_type": "markdown",
      "metadata": {
        "id": "tqOfIBMNOK8p",
        "colab_type": "text"
      },
      "source": [
        "### Criando o objeto JSON"
      ]
    },
    {
      "cell_type": "code",
      "metadata": {
        "id": "F1VAGjNYIXNJ",
        "colab_type": "code",
        "colab": {}
      },
      "source": [
        "data = json.dumps({\"signature_name\": \"serving_default\", \"instances\": [X_test[random_image].tolist()]})"
      ],
      "execution_count": 0,
      "outputs": []
    },
    {
      "cell_type": "code",
      "metadata": {
        "id": "Tl7dh_3PIr66",
        "colab_type": "code",
        "outputId": "0b6d6473-24b4-4e37-8593-159b033fed2e",
        "colab": {
          "base_uri": "https://localhost:8080/",
          "height": 53
        }
      },
      "source": [
        "data"
      ],
      "execution_count": 31,
      "outputs": [
        {
          "output_type": "execute_result",
          "data": {
            "text/plain": [
              "'{\"signature_name\": \"serving_default\", \"instances\": [[[[0.3607843137254902, 0.32941176470588235, 0.21568627450980393], [0.3568627450980392, 0.32941176470588235, 0.21176470588235294], [0.3333333333333333, 0.30196078431372547, 0.18823529411764706], [0.2627450980392157, 0.24313725490196078, 0.12549019607843137], [0.28627450980392155, 0.26666666666666666, 0.14901960784313725], [0.3058823529411765, 0.27450980392156865, 0.17254901960784313], [0.3333333333333333, 0.28627450980392155, 0.20784313725490197], [0.33725490196078434, 0.3058823529411765, 0.2196078431372549], [0.2823529411764706, 0.26666666666666666, 0.16470588235294117], [0.2823529411764706, 0.2627450980392157, 0.15294117647058825], [0.3176470588235294, 0.2901960784313726, 0.17254901960784313], [0.3137254901960784, 0.2823529411764706, 0.16470588235294117], [0.3176470588235294, 0.29411764705882354, 0.1803921568627451], [0.33725490196078434, 0.3176470588235294, 0.19607843137254902], [0.33725490196078434, 0.3176470588235294, 0.19215686274509805], [0.3333333333333333, 0.3176470588235294, 0.1803921568627451], [0.34509803921568627, 0.3215686274509804, 0.2], [0.3568627450980392, 0.32941176470588235, 0.21568627450980393], [0.3607843137254902, 0.3333333333333333, 0.21568627450980393], [0.3254901960784314, 0.2980392156862745, 0.1803921568627451], [0.30980392156862746, 0.28627450980392155, 0.16862745098039217], [0.3215686274509804, 0.30196078431372547, 0.1803921568627451], [0.3176470588235294, 0.29411764705882354, 0.17647058823529413], [0.3176470588235294, 0.2980392156862745, 0.17647058823529413], [0.3215686274509804, 0.30196078431372547, 0.1843137254901961], [0.3058823529411765, 0.28627450980392155, 0.16862745098039217], [0.30196078431372547, 0.2823529411764706, 0.16470588235294117], [0.34509803921568627, 0.3215686274509804, 0.20392156862745098], [0.3333333333333333, 0.3137254901960784, 0.19215686274509805], [0.3254901960784314, 0.30980392156862746, 0.17254901960784313], [0.34509803921568627, 0.3254901960784314, 0.19607843137254902], [0.30980392156862746, 0.2901960784313726, 0.17254901960784313]], [[0.3333333333333333, 0.3058823529411765, 0.19215686274509805], [0.3215686274509804, 0.29411764705882354, 0.1803921568627451], [0.3215686274509804, 0.29411764705882354, 0.1803921568627451], [0.3254901960784314, 0.29411764705882354, 0.17647058823529413], [0.30980392156862746, 0.2784313725490196, 0.17254901960784313], [0.3411764705882353, 0.3215686274509804, 0.24705882352941178], [0.5333333333333333, 0.5254901960784314, 0.48627450980392156], [0.6352941176470588, 0.6313725490196078, 0.5882352941176471], [0.5215686274509804, 0.5137254901960784, 0.45098039215686275], [0.34901960784313724, 0.3333333333333333, 0.2549019607843137], [0.30196078431372547, 0.2784313725490196, 0.1803921568627451], [0.3137254901960784, 0.2901960784313726, 0.1803921568627451], [0.2901960784313726, 0.27058823529411763, 0.1607843137254902], [0.2901960784313726, 0.27058823529411763, 0.15294117647058825], [0.2980392156862745, 0.2784313725490196, 0.15294117647058825], [0.33725490196078434, 0.3215686274509804, 0.18823529411764706], [0.3568627450980392, 0.3333333333333333, 0.21568627450980393], [0.33725490196078434, 0.30980392156862746, 0.19607843137254902], [0.3176470588235294, 0.2901960784313726, 0.17647058823529413], [0.30980392156862746, 0.2823529411764706, 0.16862745098039217], [0.3176470588235294, 0.29411764705882354, 0.17647058823529413], [0.30980392156862746, 0.2901960784313726, 0.17254901960784313], [0.32941176470588235, 0.30980392156862746, 0.19215686274509805], [0.34901960784313724, 0.32941176470588235, 0.21176470588235294], [0.36470588235294116, 0.34509803921568627, 0.22745098039215686], [0.34509803921568627, 0.3254901960784314, 0.20784313725490197], [0.3333333333333333, 0.3137254901960784, 0.19607843137254902], [0.3568627450980392, 0.33725490196078434, 0.2235294117647059], [0.3607843137254902, 0.3411764705882353, 0.2196078431372549], [0.36470588235294116, 0.34509803921568627, 0.21176470588235294], [0.3803921568627451, 0.3607843137254902, 0.23529411764705882], [0.3254901960784314, 0.3058823529411765, 0.19215686274509805]], [[0.34509803921568627, 0.3176470588235294, 0.20392156862745098], [0.3411764705882353, 0.3137254901960784, 0.20392156862745098], [0.3411764705882353, 0.3137254901960784, 0.2], [0.3333333333333333, 0.30980392156862746, 0.20392156862745098], [0.36470588235294116, 0.34901960784313724, 0.26666666666666666], [0.5529411764705883, 0.5490196078431373, 0.4980392156862745], [0.6901960784313725, 0.6980392156862745, 0.6745098039215687], [0.6941176470588235, 0.6980392156862745, 0.6862745098039216], [0.6274509803921569, 0.6235294117647059, 0.596078431372549], [0.3803921568627451, 0.3686274509803922, 0.3176470588235294], [0.28627450980392155, 0.27058823529411763, 0.18823529411764706], [0.37254901960784315, 0.35294117647058826, 0.25098039215686274], [0.34901960784313724, 0.3254901960784314, 0.2196078431372549], [0.3058823529411765, 0.28627450980392155, 0.17254901960784313], [0.3137254901960784, 0.29411764705882354, 0.16862745098039217], [0.3411764705882353, 0.3215686274509804, 0.18823529411764706], [0.3843137254901961, 0.3568627450980392, 0.23921568627450981], [0.34509803921568627, 0.3176470588235294, 0.20392156862745098], [0.34509803921568627, 0.3176470588235294, 0.20392156862745098], [0.33725490196078434, 0.30980392156862746, 0.19607843137254902], [0.3215686274509804, 0.2980392156862745, 0.1803921568627451], [0.30980392156862746, 0.2901960784313726, 0.17254901960784313], [0.3411764705882353, 0.3215686274509804, 0.20392156862745098], [0.34901960784313724, 0.32941176470588235, 0.21176470588235294], [0.3411764705882353, 0.3215686274509804, 0.20392156862745098], [0.3215686274509804, 0.30196078431372547, 0.1843137254901961], [0.2980392156862745, 0.2784313725490196, 0.1607843137254902], [0.33725490196078434, 0.3137254901960784, 0.19607843137254902], [0.3568627450980392, 0.33725490196078434, 0.21568627450980393], [0.32941176470588235, 0.3137254901960784, 0.1803921568627451], [0.3411764705882353, 0.3215686274509804, 0.19607843137254902], [0.34901960784313724, 0.3254901960784314, 0.21176470588235294]], [[0.3568627450980392, 0.32941176470588235, 0.21176470588235294], [0.34901960784313724, 0.3254901960784314, 0.20784313725490197], [0.3176470588235294, 0.29411764705882354, 0.17647058823529413], [0.2823529411764706, 0.27450980392156865, 0.1843137254901961], [0.4980392156862745, 0.5019607843137255, 0.4470588235294118], [0.6392156862745098, 0.6431372549019608, 0.611764705882353], [0.6235294117647059, 0.6235294117647059, 0.611764705882353], [0.6470588235294118, 0.6509803921568628, 0.6431372549019608], [0.596078431372549, 0.596078431372549, 0.5843137254901961], [0.43529411764705883, 0.43137254901960786, 0.396078431372549], [0.3764705882352941, 0.3686274509803922, 0.3058823529411765], [0.2823529411764706, 0.26666666666666666, 0.1843137254901961], [0.3137254901960784, 0.29411764705882354, 0.18823529411764706], [0.32941176470588235, 0.30980392156862746, 0.18823529411764706], [0.3058823529411765, 0.28627450980392155, 0.1568627450980392], [0.3411764705882353, 0.3176470588235294, 0.18823529411764706], [0.36470588235294116, 0.33725490196078434, 0.2196078431372549], [0.34509803921568627, 0.3176470588235294, 0.2], [0.34901960784313724, 0.3215686274509804, 0.20784313725490197], [0.3607843137254902, 0.33725490196078434, 0.2196078431372549], [0.3686274509803922, 0.34901960784313724, 0.23137254901960785], [0.32941176470588235, 0.30980392156862746, 0.19215686274509805], [0.3411764705882353, 0.3176470588235294, 0.20392156862745098], [0.3568627450980392, 0.3333333333333333, 0.2196078431372549], [0.34901960784313724, 0.32941176470588235, 0.21568627450980393], [0.3411764705882353, 0.3215686274509804, 0.20392156862745098], [0.34509803921568627, 0.3254901960784314, 0.20784313725490197], [0.3411764705882353, 0.3215686274509804, 0.20784313725490197], [0.3137254901960784, 0.29411764705882354, 0.17647058823529413], [0.30980392156862746, 0.2901960784313726, 0.1568627450980392], [0.34509803921568627, 0.3254901960784314, 0.2], [0.3215686274509804, 0.3058823529411765, 0.18823529411764706]], [[0.3254901960784314, 0.3058823529411765, 0.1803921568627451], [0.3254901960784314, 0.3137254901960784, 0.1803921568627451], [0.3137254901960784, 0.30196078431372547, 0.1803921568627451], [0.34509803921568627, 0.35294117647058826, 0.2627450980392157], [0.5529411764705883, 0.5647058823529412, 0.5333333333333333], [0.611764705882353, 0.615686274509804, 0.6313725490196078], [0.5333333333333333, 0.5372549019607843, 0.5372549019607843], [0.3686274509803922, 0.3764705882352941, 0.3568627450980392], [0.4392156862745098, 0.44313725490196076, 0.42745098039215684], [0.4627450980392157, 0.4666666666666667, 0.44313725490196076], [0.5254901960784314, 0.5254901960784314, 0.5019607843137255], [0.45098039215686275, 0.4470588235294118, 0.40784313725490196], [0.3137254901960784, 0.30196078431372547, 0.20392156862745098], [0.3215686274509804, 0.3058823529411765, 0.17254901960784313], [0.34509803921568627, 0.3254901960784314, 0.1843137254901961], [0.34509803921568627, 0.30980392156862746, 0.19215686274509805], [0.32941176470588235, 0.2901960784313726, 0.16862745098039217], [0.32941176470588235, 0.29411764705882354, 0.16862745098039217], [0.3411764705882353, 0.3176470588235294, 0.18823529411764706], [0.3607843137254902, 0.3411764705882353, 0.20784313725490197], [0.3333333333333333, 0.3137254901960784, 0.18823529411764706], [0.3176470588235294, 0.29411764705882354, 0.17647058823529413], [0.32941176470588235, 0.3058823529411765, 0.19215686274509805], [0.3215686274509804, 0.2980392156862745, 0.19215686274509805], [0.34901960784313724, 0.3215686274509804, 0.21568627450980393], [0.3686274509803922, 0.3411764705882353, 0.22745098039215686], [0.34509803921568627, 0.3215686274509804, 0.20784313725490197], [0.3176470588235294, 0.30196078431372547, 0.18823529411764706], [0.3333333333333333, 0.3137254901960784, 0.2], [0.3411764705882353, 0.3215686274509804, 0.19607843137254902], [0.32941176470588235, 0.3137254901960784, 0.18823529411764706], [0.3137254901960784, 0.3058823529411765, 0.17647058823529413]], [[0.3411764705882353, 0.3215686274509804, 0.19607843137254902], [0.33725490196078434, 0.3333333333333333, 0.20392156862745098], [0.3254901960784314, 0.3254901960784314, 0.23137254901960785], [0.4549019607843137, 0.4588235294117647, 0.403921568627451], [0.5254901960784314, 0.5294117647058824, 0.5294117647058824], [0.5294117647058824, 0.5294117647058824, 0.5647058823529412], [0.5058823529411764, 0.5098039215686274, 0.5254901960784314], [0.2901960784313726, 0.29411764705882354, 0.2784313725490196], [0.3176470588235294, 0.3215686274509804, 0.30196078431372547], [0.403921568627451, 0.40784313725490196, 0.38823529411764707], [0.43529411764705883, 0.4392156862745098, 0.4235294117647059], [0.5725490196078431, 0.5764705882352941, 0.5490196078431373], [0.5058823529411764, 0.49411764705882355, 0.43137254901960786], [0.403921568627451, 0.38823529411764707, 0.2823529411764706], [0.32941176470588235, 0.3058823529411765, 0.17647058823529413], [0.3333333333333333, 0.30196078431372547, 0.17254901960784313], [0.34509803921568627, 0.30196078431372547, 0.1843137254901961], [0.3568627450980392, 0.3215686274509804, 0.19607843137254902], [0.3607843137254902, 0.3333333333333333, 0.20784313725490197], [0.34901960784313724, 0.3333333333333333, 0.20392156862745098], [0.34509803921568627, 0.32941176470588235, 0.20392156862745098], [0.3215686274509804, 0.30196078431372547, 0.1843137254901961], [0.2823529411764706, 0.26666666666666666, 0.1411764705882353], [0.3254901960784314, 0.30980392156862746, 0.1803921568627451], [0.34901960784313724, 0.3254901960784314, 0.2], [0.33725490196078434, 0.3058823529411765, 0.1843137254901961], [0.3137254901960784, 0.2784313725490196, 0.1607843137254902], [0.30980392156862746, 0.27450980392156865, 0.1568627450980392], [0.35294117647058826, 0.3215686274509804, 0.2], [0.3215686274509804, 0.3058823529411765, 0.1843137254901961], [0.2901960784313726, 0.27058823529411763, 0.15294117647058825], [0.3176470588235294, 0.2901960784313726, 0.17254901960784313]], [[0.34509803921568627, 0.3254901960784314, 0.20392156862745098], [0.3254901960784314, 0.32941176470588235, 0.2235294117647059], [0.4235294117647059, 0.4392156862745098, 0.3764705882352941], [0.5607843137254902, 0.5686274509803921, 0.5529411764705883], [0.5490196078431373, 0.5529411764705883, 0.5725490196078431], [0.38823529411764707, 0.38823529411764707, 0.4196078431372549], [0.4235294117647059, 0.42745098039215684, 0.44313725490196076], [0.42745098039215684, 0.43137254901960786, 0.4235294117647059], [0.3764705882352941, 0.3803921568627451, 0.3607843137254902], [0.3333333333333333, 0.33725490196078434, 0.3176470588235294], [0.37254901960784315, 0.3764705882352941, 0.3568627450980392], [0.5607843137254902, 0.5647058823529412, 0.5450980392156862], [0.5882352941176471, 0.5803921568627451, 0.5490196078431373], [0.5568627450980392, 0.5411764705882353, 0.4823529411764706], [0.34509803921568627, 0.3254901960784314, 0.22745098039215686], [0.3058823529411765, 0.28627450980392155, 0.1568627450980392], [0.35294117647058826, 0.3176470588235294, 0.2], [0.34901960784313724, 0.30980392156862746, 0.19607843137254902], [0.3333333333333333, 0.3058823529411765, 0.18823529411764706], [0.3215686274509804, 0.30196078431372547, 0.1803921568627451], [0.3254901960784314, 0.3176470588235294, 0.19607843137254902], [0.3137254901960784, 0.3058823529411765, 0.1843137254901961], [0.3058823529411765, 0.2980392156862745, 0.16862745098039217], [0.3254901960784314, 0.3215686274509804, 0.1803921568627451], [0.3254901960784314, 0.3137254901960784, 0.1843137254901961], [0.3333333333333333, 0.30980392156862746, 0.19607843137254902], [0.35294117647058826, 0.3215686274509804, 0.20392156862745098], [0.36470588235294116, 0.3215686274509804, 0.19607843137254902], [0.3568627450980392, 0.3176470588235294, 0.18823529411764706], [0.3058823529411765, 0.2980392156862745, 0.1803921568627451], [0.30980392156862746, 0.29411764705882354, 0.1803921568627451], [0.3058823529411765, 0.27058823529411763, 0.16470588235294117]], [[0.30980392156862746, 0.2980392156862745, 0.17254901960784313], [0.29411764705882354, 0.3058823529411765, 0.2196078431372549], [0.2196078431372549, 0.24705882352941178, 0.2235294117647059], [0.30196078431372547, 0.3215686274509804, 0.32941176470588235], [0.4470588235294118, 0.45098039215686275, 0.4627450980392157], [0.3607843137254902, 0.36470588235294116, 0.3686274509803922], [0.24705882352941178, 0.2549019607843137, 0.24313725490196078], [0.27058823529411763, 0.2784313725490196, 0.25882352941176473], [0.2627450980392157, 0.26666666666666666, 0.24705882352941178], [0.25098039215686274, 0.2549019607843137, 0.23529411764705882], [0.43529411764705883, 0.4392156862745098, 0.4196078431372549], [0.5333333333333333, 0.5372549019607843, 0.5137254901960784], [0.5607843137254902, 0.5607843137254902, 0.5215686274509804], [0.6039215686274509, 0.592156862745098, 0.5607843137254902], [0.5411764705882353, 0.5254901960784314, 0.47058823529411764], [0.3568627450980392, 0.33725490196078434, 0.24313725490196078], [0.3215686274509804, 0.2784313725490196, 0.17254901960784313], [0.3333333333333333, 0.29411764705882354, 0.18823529411764706], [0.3333333333333333, 0.3058823529411765, 0.19607843137254902], [0.34509803921568627, 0.3254901960784314, 0.21176470588235294], [0.32941176470588235, 0.3254901960784314, 0.19607843137254902], [0.2823529411764706, 0.2823529411764706, 0.15294117647058825], [0.2823529411764706, 0.2784313725490196, 0.16862745098039217], [0.2980392156862745, 0.2901960784313726, 0.19607843137254902], [0.2627450980392157, 0.2627450980392157, 0.17647058823529413], [0.24313725490196078, 0.24705882352941178, 0.1568627450980392], [0.2823529411764706, 0.27450980392156865, 0.16862745098039217], [0.3254901960784314, 0.2980392156862745, 0.17647058823529413], [0.3215686274509804, 0.2901960784313726, 0.16862745098039217], [0.2823529411764706, 0.2784313725490196, 0.17254901960784313], [0.25882352941176473, 0.2549019607843137, 0.14901960784313725], [0.25882352941176473, 0.25098039215686274, 0.1450980392156863]], [[0.3215686274509804, 0.3058823529411765, 0.19215686274509805], [0.25882352941176473, 0.26666666666666666, 0.19215686274509805], [0.09411764705882353, 0.12549019607843137, 0.10980392156862745], [0.1450980392156863, 0.1607843137254902, 0.17254901960784313], [0.24313725490196078, 0.24705882352941178, 0.24313725490196078], [0.24705882352941178, 0.2549019607843137, 0.23137254901960785], [0.18823529411764706, 0.19607843137254902, 0.16862745098039217], [0.2980392156862745, 0.30196078431372547, 0.2784313725490196], [0.3176470588235294, 0.3176470588235294, 0.29411764705882354], [0.2823529411764706, 0.2784313725490196, 0.2627450980392157], [0.45098039215686275, 0.45098039215686275, 0.43137254901960786], [0.5254901960784314, 0.5294117647058824, 0.4980392156862745], [0.5450980392156862, 0.5490196078431373, 0.5058823529411764], [0.5686274509803921, 0.5686274509803921, 0.5411764705882353], [0.6352941176470588, 0.6235294117647059, 0.596078431372549], [0.5803921568627451, 0.5647058823529412, 0.5137254901960784], [0.40784313725490196, 0.3764705882352941, 0.2980392156862745], [0.2901960784313726, 0.2549019607843137, 0.16470588235294117], [0.3137254901960784, 0.28627450980392155, 0.1843137254901961], [0.3686274509803922, 0.34509803921568627, 0.23529411764705882], [0.33725490196078434, 0.3333333333333333, 0.21176470588235294], [0.3333333333333333, 0.3411764705882353, 0.22745098039215686], [0.45098039215686275, 0.45098039215686275, 0.3803921568627451], [0.5882352941176471, 0.5882352941176471, 0.5529411764705883], [0.596078431372549, 0.6078431372549019, 0.5803921568627451], [0.4823529411764706, 0.5137254901960784, 0.4588235294117647], [0.37254901960784315, 0.3764705882352941, 0.30980392156862746], [0.30980392156862746, 0.2901960784313726, 0.19607843137254902], [0.3254901960784314, 0.2901960784313726, 0.1803921568627451], [0.32941176470588235, 0.30980392156862746, 0.20392156862745098], [0.3058823529411765, 0.30196078431372547, 0.19607843137254902], [0.28627450980392155, 0.30196078431372547, 0.19215686274509805]], [[0.3686274509803922, 0.3333333333333333, 0.24313725490196078], [0.3058823529411765, 0.2823529411764706, 0.21568627450980393], [0.1450980392156863, 0.13333333333333333, 0.09019607843137255], [0.13333333333333333, 0.12549019607843137, 0.10196078431372549], [0.2, 0.18823529411764706, 0.16862745098039217], [0.17254901960784313, 0.1607843137254902, 0.13725490196078433], [0.16470588235294117, 0.15294117647058825, 0.13333333333333333], [0.23137254901960785, 0.2196078431372549, 0.1803921568627451], [0.2549019607843137, 0.24313725490196078, 0.19215686274509805], [0.3254901960784314, 0.3058823529411765, 0.2901960784313726], [0.47058823529411764, 0.4549019607843137, 0.4392156862745098], [0.5333333333333333, 0.5294117647058824, 0.5058823529411764], [0.5607843137254902, 0.5647058823529412, 0.5490196078431373], [0.5843137254901961, 0.5882352941176471, 0.5568627450980392], [0.611764705882353, 0.615686274509804, 0.5843137254901961], [0.6941176470588235, 0.6941176470588235, 0.6784313725490196], [0.7294117647058823, 0.7254901960784313, 0.6941176470588235], [0.5647058823529412, 0.5568627450980392, 0.5058823529411764], [0.42745098039215684, 0.4117647058823529, 0.33725490196078434], [0.4627450980392157, 0.4392156862745098, 0.34509803921568627], [0.5490196078431373, 0.5411764705882353, 0.47058823529411764], [0.7372549019607844, 0.7450980392156863, 0.7058823529411765], [0.8588235294117647, 0.8666666666666667, 0.8549019607843137], [0.8862745098039215, 0.8980392156862745, 0.9098039215686274], [0.8745098039215686, 0.9019607843137255, 0.9098039215686274], [0.8470588235294118, 0.8784313725490196, 0.8745098039215686], [0.788235294117647, 0.788235294117647, 0.788235294117647], [0.6039215686274509, 0.5764705882352941, 0.5372549019607843], [0.42745098039215684, 0.38823529411764707, 0.2980392156862745], [0.3764705882352941, 0.3333333333333333, 0.2196078431372549], [0.3607843137254902, 0.3176470588235294, 0.21176470588235294], [0.3333333333333333, 0.3176470588235294, 0.20784313725490197]], [[0.3607843137254902, 0.30980392156862746, 0.2196078431372549], [0.3215686274509804, 0.2784313725490196, 0.20392156862745098], [0.2823529411764706, 0.24705882352941178, 0.1843137254901961], [0.3176470588235294, 0.29411764705882354, 0.23529411764705882], [0.25882352941176473, 0.24705882352941178, 0.1843137254901961], [0.2196078431372549, 0.20784313725490197, 0.14901960784313725], [0.25098039215686274, 0.23921568627450981, 0.17647058823529413], [0.27058823529411763, 0.2549019607843137, 0.17254901960784313], [0.34509803921568627, 0.3254901960784314, 0.23921568627450981], [0.34509803921568627, 0.32941176470588235, 0.29411764705882354], [0.47843137254901963, 0.47058823529411764, 0.4666666666666667], [0.5529411764705883, 0.5529411764705883, 0.5529411764705883], [0.5882352941176471, 0.5882352941176471, 0.5803921568627451], [0.6, 0.6078431372549019, 0.5725490196078431], [0.6392156862745098, 0.6470588235294118, 0.611764705882353], [0.6745098039215687, 0.6784313725490196, 0.6627450980392157], [0.7686274509803922, 0.7843137254901961, 0.7529411764705882], [0.8352941176470589, 0.8509803921568627, 0.8117647058823529], [0.7803921568627451, 0.7843137254901961, 0.7529411764705882], [0.7686274509803922, 0.7647058823529411, 0.7333333333333333], [0.8666666666666667, 0.8627450980392157, 0.8392156862745098], [0.8980392156862745, 0.9019607843137255, 0.8862745098039215], [0.8784313725490196, 0.8862745098039215, 0.8862745098039215], [0.8509803921568627, 0.8705882352941177, 0.8823529411764706], [0.8117647058823529, 0.8313725490196079, 0.8431372549019608], [0.7843137254901961, 0.8, 0.807843137254902], [0.7607843137254902, 0.7725490196078432, 0.7843137254901961], [0.7686274509803922, 0.7725490196078432, 0.7725490196078432], [0.6470588235294118, 0.6431372549019608, 0.6039215686274509], [0.3764705882352941, 0.34509803921568627, 0.25098039215686274], [0.32941176470588235, 0.2823529411764706, 0.1803921568627451], [0.3137254901960784, 0.28627450980392155, 0.17647058823529413]], [[0.3843137254901961, 0.33725490196078434, 0.23529411764705882], [0.32941176470588235, 0.2784313725490196, 0.1843137254901961], [0.2980392156862745, 0.24313725490196078, 0.1607843137254902], [0.37254901960784315, 0.3411764705882353, 0.24705882352941178], [0.3333333333333333, 0.3215686274509804, 0.21176470588235294], [0.33725490196078434, 0.3215686274509804, 0.21568627450980393], [0.3568627450980392, 0.34509803921568627, 0.23529411764705882], [0.38823529411764707, 0.3686274509803922, 0.24313725490196078], [0.38823529411764707, 0.36470588235294116, 0.24313725490196078], [0.36470588235294116, 0.34509803921568627, 0.2980392156862745], [0.4588235294117647, 0.4549019607843137, 0.4588235294117647], [0.5450980392156862, 0.5490196078431373, 0.5607843137254902], [0.596078431372549, 0.6, 0.5882352941176471], [0.6196078431372549, 0.6235294117647059, 0.592156862745098], [0.6549019607843137, 0.6588235294117647, 0.6235294117647059], [0.7019607843137254, 0.7058823529411765, 0.6901960784313725], [0.7333333333333333, 0.7490196078431373, 0.7254901960784313], [0.803921568627451, 0.8274509803921568, 0.807843137254902], [0.8666666666666667, 0.8862745098039215, 0.8901960784313725], [0.8823529411764706, 0.8980392156862745, 0.9215686274509803], [0.8862745098039215, 0.8862745098039215, 0.9019607843137255], [0.8745098039215686, 0.8745098039215686, 0.8745098039215686], [0.8666666666666667, 0.8784313725490196, 0.8823529411764706], [0.8588235294117647, 0.8745098039215686, 0.8901960784313725], [0.788235294117647, 0.8, 0.8117647058823529], [0.7137254901960784, 0.7176470588235294, 0.7254901960784313], [0.6588235294117647, 0.6705882352941176, 0.6784313725490196], [0.6509803921568628, 0.6705882352941176, 0.6901960784313725], [0.6588235294117647, 0.6745098039215687, 0.6862745098039216], [0.4549019607843137, 0.43137254901960786, 0.3686274509803922], [0.3215686274509804, 0.2823529411764706, 0.1803921568627451], [0.30196078431372547, 0.27450980392156865, 0.1568627450980392]], [[0.3843137254901961, 0.36470588235294116, 0.24313725490196078], [0.4117647058823529, 0.3803921568627451, 0.25882352941176473], [0.4, 0.3568627450980392, 0.23921568627450981], [0.3803921568627451, 0.35294117647058826, 0.23137254901960785], [0.36470588235294116, 0.34509803921568627, 0.2235294117647059], [0.3607843137254902, 0.3411764705882353, 0.2196078431372549], [0.3607843137254902, 0.3411764705882353, 0.21568627450980393], [0.3803921568627451, 0.34901960784313724, 0.2196078431372549], [0.3764705882352941, 0.33725490196078434, 0.22745098039215686], [0.38823529411764707, 0.3686274509803922, 0.3176470588235294], [0.42745098039215684, 0.43529411764705883, 0.4196078431372549], [0.5058823529411764, 0.5254901960784314, 0.5176470588235295], [0.5843137254901961, 0.5882352941176471, 0.5764705882352941], [0.6392156862745098, 0.6431372549019608, 0.6078431372549019], [0.6588235294117647, 0.6666666666666666, 0.6313725490196078], [0.6901960784313725, 0.6941176470588235, 0.6784313725490196], [0.7058823529411765, 0.7019607843137254, 0.7019607843137254], [0.7411764705882353, 0.7411764705882353, 0.7450980392156863], [0.8, 0.8117647058823529, 0.8235294117647058], [0.8313725490196079, 0.8509803921568627, 0.8666666666666667], [0.8431372549019608, 0.8470588235294118, 0.8705882352941177], [0.8509803921568627, 0.8470588235294118, 0.8705882352941177], [0.8431372549019608, 0.8509803921568627, 0.8666666666666667], [0.8235294117647058, 0.8392156862745098, 0.8509803921568627], [0.788235294117647, 0.8, 0.8156862745098039], [0.6901960784313725, 0.6862745098039216, 0.7019607843137254], [0.6588235294117647, 0.6588235294117647, 0.6509803921568628], [0.6078431372549019, 0.6078431372549019, 0.611764705882353], [0.6, 0.592156862745098, 0.611764705882353], [0.49411764705882355, 0.4745098039215686, 0.43529411764705883], [0.3686274509803922, 0.3333333333333333, 0.23137254901960785], [0.3607843137254902, 0.32941176470588235, 0.20784313725490197]], [[0.4196078431372549, 0.4117647058823529, 0.2823529411764706], [0.4, 0.3803921568627451, 0.2549019607843137], [0.3803921568627451, 0.35294117647058826, 0.2235294117647059], [0.37254901960784315, 0.33725490196078434, 0.21568627450980393], [0.36470588235294116, 0.3333333333333333, 0.21176470588235294], [0.3607843137254902, 0.33725490196078434, 0.21176470588235294], [0.35294117647058826, 0.3333333333333333, 0.20784313725490197], [0.34901960784313724, 0.3215686274509804, 0.19607843137254902], [0.37254901960784315, 0.33725490196078434, 0.23529411764705882], [0.403921568627451, 0.3764705882352941, 0.3137254901960784], [0.39215686274509803, 0.39215686274509803, 0.3568627450980392], [0.4627450980392157, 0.4823529411764706, 0.4627450980392157], [0.5725490196078431, 0.5843137254901961, 0.5725490196078431], [0.6549019607843137, 0.6627450980392157, 0.6392156862745098], [0.6666666666666666, 0.6705882352941176, 0.6470588235294118], [0.6666666666666666, 0.6666666666666666, 0.6588235294117647], [0.6901960784313725, 0.6745098039215687, 0.6862745098039216], [0.6980392156862745, 0.6901960784313725, 0.7019607843137254], [0.7333333333333333, 0.7372549019607844, 0.7450980392156863], [0.7843137254901961, 0.792156862745098, 0.8], [0.796078431372549, 0.8, 0.8196078431372549], [0.792156862745098, 0.792156862745098, 0.8156862745098039], [0.7843137254901961, 0.792156862745098, 0.8117647058823529], [0.7529411764705882, 0.7647058823529411, 0.7803921568627451], [0.7294117647058823, 0.7372549019607844, 0.7607843137254902], [0.6549019607843137, 0.6549019607843137, 0.6745098039215687], [0.596078431372549, 0.596078431372549, 0.5843137254901961], [0.5686274509803921, 0.5607843137254902, 0.5450980392156862], [0.5411764705882353, 0.5254901960784314, 0.5254901960784314], [0.4745098039215686, 0.4549019607843137, 0.42745098039215684], [0.38823529411764707, 0.34901960784313724, 0.25882352941176473], [0.38823529411764707, 0.34509803921568627, 0.22745098039215686]], [[0.3411764705882353, 0.3215686274509804, 0.2], [0.34901960784313724, 0.32941176470588235, 0.21176470588235294], [0.38823529411764707, 0.3686274509803922, 0.25098039215686274], [0.4117647058823529, 0.37254901960784315, 0.25882352941176473], [0.4117647058823529, 0.36470588235294116, 0.25098039215686274], [0.4, 0.37254901960784315, 0.24705882352941178], [0.37254901960784315, 0.35294117647058826, 0.22745098039215686], [0.34509803921568627, 0.33725490196078434, 0.21176470588235294], [0.3607843137254902, 0.3411764705882353, 0.22745098039215686], [0.403921568627451, 0.3764705882352941, 0.28627450980392155], [0.4, 0.3764705882352941, 0.3333333333333333], [0.4117647058823529, 0.4117647058823529, 0.40784313725490196], [0.5490196078431373, 0.5725490196078431, 0.5647058823529412], [0.6588235294117647, 0.6745098039215687, 0.6705882352941176], [0.6862745098039216, 0.6901960784313725, 0.6901960784313725], [0.6745098039215687, 0.6745098039215687, 0.6745098039215687], [0.6980392156862745, 0.6980392156862745, 0.6980392156862745], [0.6980392156862745, 0.6980392156862745, 0.7019607843137254], [0.6901960784313725, 0.6901960784313725, 0.6941176470588235], [0.7058823529411765, 0.7058823529411765, 0.7058823529411765], [0.7254901960784313, 0.7294117647058823, 0.7372549019607844], [0.7333333333333333, 0.7372549019607844, 0.7529411764705882], [0.7215686274509804, 0.7254901960784313, 0.7411764705882353], [0.6941176470588235, 0.6980392156862745, 0.7098039215686275], [0.6588235294117647, 0.6627450980392157, 0.6823529411764706], [0.6196078431372549, 0.6313725490196078, 0.6470588235294118], [0.5098039215686274, 0.5254901960784314, 0.5294117647058824], [0.4745098039215686, 0.49019607843137253, 0.4745098039215686], [0.49019607843137253, 0.4980392156862745, 0.47843137254901963], [0.4549019607843137, 0.43137254901960786, 0.396078431372549], [0.396078431372549, 0.3411764705882353, 0.26666666666666666], [0.3843137254901961, 0.3254901960784314, 0.21568627450980393]], [[0.35294117647058826, 0.3333333333333333, 0.21176470588235294], [0.3568627450980392, 0.33725490196078434, 0.2196078431372549], [0.33725490196078434, 0.3176470588235294, 0.2], [0.35294117647058826, 0.3215686274509804, 0.20392156862745098], [0.4, 0.3607843137254902, 0.23921568627450981], [0.3803921568627451, 0.35294117647058826, 0.23137254901960785], [0.3607843137254902, 0.33725490196078434, 0.21176470588235294], [0.3568627450980392, 0.3411764705882353, 0.21568627450980393], [0.3607843137254902, 0.34509803921568627, 0.22745098039215686], [0.4, 0.37254901960784315, 0.27058823529411763], [0.43137254901960786, 0.40784313725490196, 0.3568627450980392], [0.38823529411764707, 0.39215686274509803, 0.3803921568627451], [0.5215686274509804, 0.5411764705882353, 0.5372549019607843], [0.6509803921568628, 0.6666666666666666, 0.6627450980392157], [0.6745098039215687, 0.6823529411764706, 0.6784313725490196], [0.6627450980392157, 0.6588235294117647, 0.6588235294117647], [0.6862745098039216, 0.6862745098039216, 0.6823529411764706], [0.6823529411764706, 0.6823529411764706, 0.6784313725490196], [0.6509803921568628, 0.6509803921568628, 0.6470588235294118], [0.6588235294117647, 0.6588235294117647, 0.6549019607843137], [0.6666666666666666, 0.6705882352941176, 0.6705882352941176], [0.6823529411764706, 0.6901960784313725, 0.6941176470588235], [0.6666666666666666, 0.6745098039215687, 0.6784313725490196], [0.6235294117647059, 0.6274509803921569, 0.6313725490196078], [0.6, 0.6039215686274509, 0.6078431372549019], [0.5764705882352941, 0.5803921568627451, 0.5843137254901961], [0.47843137254901963, 0.4823529411764706, 0.47843137254901963], [0.44313725490196076, 0.45098039215686275, 0.4392156862745098], [0.4980392156862745, 0.4980392156862745, 0.4823529411764706], [0.45098039215686275, 0.4235294117647059, 0.3803921568627451], [0.396078431372549, 0.3411764705882353, 0.2627450980392157], [0.4117647058823529, 0.34901960784313724, 0.24705882352941178]], [[0.32941176470588235, 0.30980392156862746, 0.19215686274509805], [0.28627450980392155, 0.26666666666666666, 0.14901960784313725], [0.3058823529411765, 0.28627450980392155, 0.16862745098039217], [0.34509803921568627, 0.3254901960784314, 0.2], [0.3411764705882353, 0.3137254901960784, 0.19215686274509805], [0.3176470588235294, 0.29411764705882354, 0.16862745098039217], [0.30980392156862746, 0.2784313725490196, 0.1568627450980392], [0.3411764705882353, 0.3176470588235294, 0.19215686274509805], [0.3607843137254902, 0.34901960784313724, 0.2196078431372549], [0.3686274509803922, 0.3411764705882353, 0.23137254901960785], [0.4235294117647059, 0.4, 0.3411764705882353], [0.4235294117647059, 0.42745098039215684, 0.40784313725490196], [0.4745098039215686, 0.49411764705882355, 0.48627450980392156], [0.596078431372549, 0.611764705882353, 0.6078431372549019], [0.6509803921568628, 0.6549019607843137, 0.6549019607843137], [0.6470588235294118, 0.6431372549019608, 0.6431372549019608], [0.6431372549019608, 0.6431372549019608, 0.6313725490196078], [0.6313725490196078, 0.6313725490196078, 0.615686274509804], [0.615686274509804, 0.615686274509804, 0.6], [0.6235294117647059, 0.6235294117647059, 0.6078431372549019], [0.611764705882353, 0.615686274509804, 0.6039215686274509], [0.6313725490196078, 0.6392156862745098, 0.6352941176470588], [0.6274509803921569, 0.6352941176470588, 0.6274509803921569], [0.5764705882352941, 0.5843137254901961, 0.5803921568627451], [0.5333333333333333, 0.5411764705882353, 0.5294117647058824], [0.47058823529411764, 0.47058823529411764, 0.45098039215686275], [0.41568627450980394, 0.41568627450980394, 0.396078431372549], [0.4549019607843137, 0.4549019607843137, 0.44313725490196076], [0.48627450980392156, 0.48627450980392156, 0.47058823529411764], [0.4549019607843137, 0.43137254901960786, 0.3764705882352941], [0.38823529411764707, 0.33725490196078434, 0.2549019607843137], [0.3843137254901961, 0.3254901960784314, 0.22745098039215686]], [[0.2980392156862745, 0.2784313725490196, 0.1607843137254902], [0.2980392156862745, 0.2784313725490196, 0.1607843137254902], [0.33725490196078434, 0.3176470588235294, 0.2], [0.3411764705882353, 0.3254901960784314, 0.2], [0.3333333333333333, 0.3176470588235294, 0.18823529411764706], [0.34901960784313724, 0.3176470588235294, 0.19607843137254902], [0.3607843137254902, 0.3176470588235294, 0.2], [0.3607843137254902, 0.32941176470588235, 0.20392156862745098], [0.32941176470588235, 0.3137254901960784, 0.17647058823529413], [0.3176470588235294, 0.2901960784313726, 0.17254901960784313], [0.37254901960784315, 0.35294117647058826, 0.2823529411764706], [0.42745098039215684, 0.43137254901960786, 0.403921568627451], [0.4117647058823529, 0.43137254901960786, 0.4235294117647059], [0.5254901960784314, 0.5411764705882353, 0.5372549019607843], [0.6, 0.6039215686274509, 0.6], [0.6, 0.596078431372549, 0.596078431372549], [0.6, 0.6, 0.5843137254901961], [0.5843137254901961, 0.5882352941176471, 0.5647058823529412], [0.5372549019607843, 0.5450980392156862, 0.5215686274509804], [0.5568627450980392, 0.5607843137254902, 0.5372549019607843], [0.5450980392156862, 0.5529411764705883, 0.5333333333333333], [0.5725490196078431, 0.5803921568627451, 0.5607843137254902], [0.5882352941176471, 0.596078431372549, 0.5764705882352941], [0.5490196078431373, 0.5568627450980392, 0.5411764705882353], [0.47058823529411764, 0.4745098039215686, 0.4470588235294118], [0.2901960784313726, 0.28627450980392155, 0.25098039215686274], [0.2784313725490196, 0.26666666666666666, 0.24705882352941178], [0.3607843137254902, 0.34901960784313724, 0.3411764705882353], [0.4196078431372549, 0.40784313725490196, 0.39215686274509803], [0.4588235294117647, 0.43529411764705883, 0.3686274509803922], [0.4235294117647059, 0.37254901960784315, 0.2823529411764706], [0.3843137254901961, 0.3215686274509804, 0.22745098039215686]], [[0.3137254901960784, 0.30196078431372547, 0.1803921568627451], [0.2901960784313726, 0.2784313725490196, 0.1568627450980392], [0.2784313725490196, 0.26666666666666666, 0.14901960784313725], [0.25098039215686274, 0.23921568627450981, 0.11372549019607843], [0.2823529411764706, 0.2627450980392157, 0.13725490196078433], [0.32941176470588235, 0.3058823529411765, 0.1803921568627451], [0.33725490196078434, 0.30196078431372547, 0.1803921568627451], [0.3254901960784314, 0.30196078431372547, 0.17254901960784313], [0.30980392156862746, 0.30196078431372547, 0.16470588235294117], [0.3058823529411765, 0.2901960784313726, 0.17254901960784313], [0.3137254901960784, 0.2980392156862745, 0.2196078431372549], [0.396078431372549, 0.396078431372549, 0.3568627450980392], [0.3803921568627451, 0.396078431372549, 0.4], [0.4745098039215686, 0.48627450980392156, 0.49019607843137253], [0.5450980392156862, 0.5490196078431373, 0.5450980392156862], [0.5411764705882353, 0.5411764705882353, 0.5333333333333333], [0.5803921568627451, 0.5843137254901961, 0.5647058823529412], [0.5568627450980392, 0.5607843137254902, 0.5372549019607843], [0.4666666666666667, 0.4666666666666667, 0.4470588235294118], [0.49411764705882355, 0.48627450980392156, 0.47058823529411764], [0.5058823529411764, 0.5058823529411764, 0.4980392156862745], [0.5411764705882353, 0.5450980392156862, 0.5372549019607843], [0.5529411764705883, 0.5529411764705883, 0.5411764705882353], [0.49411764705882355, 0.49411764705882355, 0.47843137254901963], [0.3137254901960784, 0.3058823529411765, 0.2823529411764706], [0.23529411764705882, 0.2196078431372549, 0.1803921568627451], [0.26666666666666666, 0.24705882352941178, 0.21568627450980393], [0.29411764705882354, 0.2823529411764706, 0.27058823529411763], [0.4, 0.396078431372549, 0.3843137254901961], [0.43137254901960786, 0.4117647058823529, 0.3411764705882353], [0.3607843137254902, 0.3137254901960784, 0.21568627450980393], [0.3607843137254902, 0.3058823529411765, 0.20392156862745098]], [[0.3411764705882353, 0.32941176470588235, 0.20784313725490197], [0.32941176470588235, 0.3176470588235294, 0.19607843137254902], [0.30196078431372547, 0.28627450980392155, 0.16862745098039217], [0.30196078431372547, 0.2823529411764706, 0.1607843137254902], [0.2980392156862745, 0.2784313725490196, 0.1568627450980392], [0.32941176470588235, 0.30980392156862746, 0.18823529411764706], [0.3215686274509804, 0.30196078431372547, 0.1803921568627451], [0.3411764705882353, 0.3254901960784314, 0.18823529411764706], [0.34509803921568627, 0.3333333333333333, 0.18823529411764706], [0.3411764705882353, 0.3254901960784314, 0.20392156862745098], [0.30980392156862746, 0.2901960784313726, 0.19215686274509805], [0.3411764705882353, 0.32941176470588235, 0.25882352941176473], [0.33725490196078434, 0.34509803921568627, 0.32941176470588235], [0.37254901960784315, 0.3764705882352941, 0.3686274509803922], [0.4588235294117647, 0.4627450980392157, 0.45098039215686275], [0.47058823529411764, 0.47058823529411764, 0.4588235294117647], [0.5019607843137255, 0.5098039215686274, 0.4823529411764706], [0.47058823529411764, 0.4745098039215686, 0.4470588235294118], [0.41568627450980394, 0.4117647058823529, 0.38823529411764707], [0.47058823529411764, 0.4549019607843137, 0.4392156862745098], [0.49411764705882355, 0.48627450980392156, 0.4745098039215686], [0.48627450980392156, 0.48627450980392156, 0.47058823529411764], [0.4627450980392157, 0.4549019607843137, 0.43137254901960786], [0.37254901960784315, 0.35294117647058826, 0.3254901960784314], [0.2196078431372549, 0.2, 0.16470588235294117], [0.2196078431372549, 0.19607843137254902, 0.1568627450980392], [0.2784313725490196, 0.24705882352941178, 0.20392156862745098], [0.30196078431372547, 0.2901960784313726, 0.2627450980392157], [0.4470588235294118, 0.4588235294117647, 0.4392156862745098], [0.43137254901960786, 0.4196078431372549, 0.34509803921568627], [0.37254901960784315, 0.3333333333333333, 0.23137254901960785], [0.3686274509803922, 0.3176470588235294, 0.21176470588235294]], [[0.3411764705882353, 0.30980392156862746, 0.19215686274509805], [0.3411764705882353, 0.30980392156862746, 0.19607843137254902], [0.3411764705882353, 0.30980392156862746, 0.19607843137254902], [0.34901960784313724, 0.3254901960784314, 0.21176470588235294], [0.32941176470588235, 0.30980392156862746, 0.19215686274509805], [0.32941176470588235, 0.30980392156862746, 0.19607843137254902], [0.3411764705882353, 0.3215686274509804, 0.20784313725490197], [0.3568627450980392, 0.3333333333333333, 0.20392156862745098], [0.3568627450980392, 0.32941176470588235, 0.1803921568627451], [0.3686274509803922, 0.3411764705882353, 0.20392156862745098], [0.3411764705882353, 0.30980392156862746, 0.19215686274509805], [0.33725490196078434, 0.3137254901960784, 0.20784313725490197], [0.3058823529411765, 0.3058823529411765, 0.2235294117647059], [0.2627450980392157, 0.2627450980392157, 0.20392156862745098], [0.32941176470588235, 0.32941176470588235, 0.30196078431372547], [0.42745098039215684, 0.43137254901960786, 0.4196078431372549], [0.396078431372549, 0.4, 0.3764705882352941], [0.34509803921568627, 0.34509803921568627, 0.30980392156862746], [0.3568627450980392, 0.34509803921568627, 0.30980392156862746], [0.3843137254901961, 0.36470588235294116, 0.3215686274509804], [0.3764705882352941, 0.36470588235294116, 0.3137254901960784], [0.35294117647058826, 0.3411764705882353, 0.2823529411764706], [0.34509803921568627, 0.3254901960784314, 0.25882352941176473], [0.32941176470588235, 0.30196078431372547, 0.22745098039215686], [0.2549019607843137, 0.23529411764705882, 0.17254901960784313], [0.21568627450980393, 0.19607843137254902, 0.14901960784313725], [0.23529411764705882, 0.2, 0.14901960784313725], [0.23529411764705882, 0.21568627450980393, 0.16862745098039217], [0.3607843137254902, 0.36470588235294116, 0.3254901960784314], [0.43137254901960786, 0.4196078431372549, 0.3411764705882353], [0.3137254901960784, 0.27450980392156865, 0.17254901960784313], [0.3215686274509804, 0.27058823529411763, 0.16470588235294117]], [[0.35294117647058826, 0.3215686274509804, 0.20784313725490197], [0.2980392156862745, 0.26666666666666666, 0.15294117647058825], [0.30196078431372547, 0.27058823529411763, 0.1568627450980392], [0.27450980392156865, 0.25098039215686274, 0.13725490196078433], [0.26666666666666666, 0.24705882352941178, 0.13725490196078433], [0.2823529411764706, 0.2627450980392157, 0.15294117647058825], [0.29411764705882354, 0.27450980392156865, 0.16862745098039217], [0.3137254901960784, 0.2901960784313726, 0.16862745098039217], [0.3568627450980392, 0.32941176470588235, 0.19215686274509805], [0.3764705882352941, 0.34901960784313724, 0.21568627450980393], [0.3686274509803922, 0.33725490196078434, 0.21176470588235294], [0.3607843137254902, 0.3333333333333333, 0.21568627450980393], [0.30980392156862746, 0.2901960784313726, 0.1843137254901961], [0.23921568627450981, 0.23137254901960785, 0.15294117647058825], [0.27058823529411763, 0.27058823529411763, 0.23137254901960785], [0.42745098039215684, 0.43137254901960786, 0.41568627450980394], [0.4117647058823529, 0.40784313725490196, 0.3803921568627451], [0.28627450980392155, 0.2784313725490196, 0.23137254901960785], [0.23921568627450981, 0.2235294117647059, 0.16470588235294117], [0.2627450980392157, 0.23529411764705882, 0.16862745098039217], [0.26666666666666666, 0.24705882352941178, 0.16470588235294117], [0.25882352941176473, 0.23529411764705882, 0.1450980392156863], [0.29411764705882354, 0.2627450980392157, 0.16470588235294117], [0.32941176470588235, 0.28627450980392155, 0.1803921568627451], [0.29411764705882354, 0.26666666666666666, 0.1843137254901961], [0.2196078431372549, 0.20392156862745098, 0.14901960784313725], [0.24705882352941178, 0.21176470588235294, 0.1411764705882353], [0.2196078431372549, 0.1843137254901961, 0.11372549019607843], [0.27450980392156865, 0.2627450980392157, 0.2], [0.396078431372549, 0.3843137254901961, 0.30196078431372547], [0.3137254901960784, 0.27450980392156865, 0.16862745098039217], [0.3137254901960784, 0.26666666666666666, 0.1568627450980392]], [[0.3568627450980392, 0.3411764705882353, 0.2196078431372549], [0.3215686274509804, 0.3058823529411765, 0.18823529411764706], [0.34509803921568627, 0.32941176470588235, 0.21176470588235294], [0.3411764705882353, 0.3215686274509804, 0.21568627450980393], [0.2980392156862745, 0.27450980392156865, 0.17647058823529413], [0.27450980392156865, 0.25098039215686274, 0.15294117647058825], [0.2784313725490196, 0.2549019607843137, 0.1607843137254902], [0.29411764705882354, 0.27058823529411763, 0.16862745098039217], [0.32941176470588235, 0.3137254901960784, 0.2], [0.3333333333333333, 0.3176470588235294, 0.20392156862745098], [0.3176470588235294, 0.30196078431372547, 0.1843137254901961], [0.32941176470588235, 0.30980392156862746, 0.19607843137254902], [0.30980392156862746, 0.27450980392156865, 0.19215686274509805], [0.25098039215686274, 0.23137254901960785, 0.16470588235294117], [0.2196078431372549, 0.21568627450980393, 0.17254901960784313], [0.30980392156862746, 0.3176470588235294, 0.2901960784313726], [0.3843137254901961, 0.3764705882352941, 0.34509803921568627], [0.28627450980392155, 0.26666666666666666, 0.21568627450980393], [0.2235294117647059, 0.2, 0.12941176470588237], [0.25098039215686274, 0.2235294117647059, 0.13333333333333333], [0.2549019607843137, 0.2235294117647059, 0.12549019607843137], [0.23529411764705882, 0.2, 0.10196078431372549], [0.2549019607843137, 0.20784313725490197, 0.10196078431372549], [0.28627450980392155, 0.22745098039215686, 0.11372549019607843], [0.2901960784313726, 0.2549019607843137, 0.16862745098039217], [0.22745098039215686, 0.21568627450980393, 0.1568627450980392], [0.25882352941176473, 0.2196078431372549, 0.13725490196078433], [0.26666666666666666, 0.2196078431372549, 0.13333333333333333], [0.25098039215686274, 0.2235294117647059, 0.14901960784313725], [0.34901960784313724, 0.3333333333333333, 0.2549019607843137], [0.3215686274509804, 0.2823529411764706, 0.1803921568627451], [0.3215686274509804, 0.27450980392156865, 0.16470588235294117]], [[0.30980392156862746, 0.2980392156862745, 0.1803921568627451], [0.30980392156862746, 0.2980392156862745, 0.1803921568627451], [0.27450980392156865, 0.2627450980392157, 0.1450980392156863], [0.30196078431372547, 0.28627450980392155, 0.1843137254901961], [0.3333333333333333, 0.3176470588235294, 0.2235294117647059], [0.3254901960784314, 0.30980392156862746, 0.20392156862745098], [0.2901960784313726, 0.27450980392156865, 0.1607843137254902], [0.27058823529411763, 0.26666666666666666, 0.14901960784313725], [0.2901960784313726, 0.2980392156862745, 0.1803921568627451], [0.3254901960784314, 0.3333333333333333, 0.21568627450980393], [0.3254901960784314, 0.33725490196078434, 0.21176470588235294], [0.30980392156862746, 0.3137254901960784, 0.2], [0.29411764705882354, 0.2784313725490196, 0.20392156862745098], [0.26666666666666666, 0.24705882352941178, 0.1803921568627451], [0.1843137254901961, 0.17254901960784313, 0.12156862745098039], [0.2235294117647059, 0.23137254901960785, 0.2], [0.32941176470588235, 0.3254901960784314, 0.2980392156862745], [0.3215686274509804, 0.30196078431372547, 0.25098039215686274], [0.3137254901960784, 0.2784313725490196, 0.19607843137254902], [0.25882352941176473, 0.2235294117647059, 0.12941176470588237], [0.2549019607843137, 0.2235294117647059, 0.12156862745098039], [0.23529411764705882, 0.20392156862745098, 0.09803921568627451], [0.24705882352941178, 0.20784313725490197, 0.10588235294117647], [0.2823529411764706, 0.23529411764705882, 0.1411764705882353], [0.2823529411764706, 0.25098039215686274, 0.16470588235294117], [0.23921568627450981, 0.21176470588235294, 0.1568627450980392], [0.26666666666666666, 0.22745098039215686, 0.15294117647058825], [0.2901960784313726, 0.24313725490196078, 0.13725490196078433], [0.27058823529411763, 0.23137254901960785, 0.14901960784313725], [0.32941176470588235, 0.30980392156862746, 0.23529411764705882], [0.2823529411764706, 0.24313725490196078, 0.14901960784313725], [0.2627450980392157, 0.21176470588235294, 0.11764705882352941]], [[0.30980392156862746, 0.29411764705882354, 0.17647058823529413], [0.2901960784313726, 0.27450980392156865, 0.1607843137254902], [0.2549019607843137, 0.23921568627450981, 0.12549019607843137], [0.25098039215686274, 0.23137254901960785, 0.13333333333333333], [0.2823529411764706, 0.2627450980392157, 0.16470588235294117], [0.3137254901960784, 0.2980392156862745, 0.1843137254901961], [0.28627450980392155, 0.27058823529411763, 0.1450980392156863], [0.26666666666666666, 0.2627450980392157, 0.13333333333333333], [0.23921568627450981, 0.25098039215686274, 0.12549019607843137], [0.25882352941176473, 0.26666666666666666, 0.1450980392156863], [0.28627450980392155, 0.2980392156862745, 0.17254901960784313], [0.2784313725490196, 0.2901960784313726, 0.17647058823529413], [0.2549019607843137, 0.2627450980392157, 0.17647058823529413], [0.27450980392156865, 0.25882352941176473, 0.17647058823529413], [0.19215686274509805, 0.17254901960784313, 0.10980392156862745], [0.1843137254901961, 0.1843137254901961, 0.15294117647058825], [0.3411764705882353, 0.34509803921568627, 0.3176470588235294], [0.34509803921568627, 0.3215686274509804, 0.26666666666666666], [0.29411764705882354, 0.24705882352941178, 0.16470588235294117], [0.2549019607843137, 0.21176470588235294, 0.11764705882352941], [0.2627450980392157, 0.23137254901960785, 0.12549019607843137], [0.24705882352941178, 0.2196078431372549, 0.10980392156862745], [0.27450980392156865, 0.24705882352941178, 0.14901960784313725], [0.28627450980392155, 0.2549019607843137, 0.16862745098039217], [0.2627450980392157, 0.23921568627450981, 0.1607843137254902], [0.23529411764705882, 0.21176470588235294, 0.16862745098039217], [0.23137254901960785, 0.2, 0.14901960784313725], [0.2784313725490196, 0.24705882352941178, 0.13725490196078433], [0.2627450980392157, 0.22745098039215686, 0.15294117647058825], [0.30980392156862746, 0.28627450980392155, 0.23529411764705882], [0.28627450980392155, 0.24313725490196078, 0.16470588235294117], [0.2784313725490196, 0.22745098039215686, 0.13333333333333333]], [[0.32941176470588235, 0.3137254901960784, 0.19607843137254902], [0.29411764705882354, 0.2784313725490196, 0.16470588235294117], [0.2549019607843137, 0.23921568627450981, 0.12549019607843137], [0.26666666666666666, 0.23921568627450981, 0.13333333333333333], [0.3137254901960784, 0.27450980392156865, 0.17254901960784313], [0.3607843137254902, 0.3254901960784314, 0.21568627450980393], [0.3686274509803922, 0.3333333333333333, 0.2196078431372549], [0.36470588235294116, 0.3411764705882353, 0.23137254901960785], [0.2980392156862745, 0.29411764705882354, 0.1803921568627451], [0.2549019607843137, 0.24705882352941178, 0.13725490196078433], [0.22745098039215686, 0.2196078431372549, 0.10980392156862745], [0.2235294117647059, 0.2196078431372549, 0.11372549019607843], [0.2235294117647059, 0.2235294117647059, 0.12941176470588237], [0.25098039215686274, 0.22745098039215686, 0.13725490196078433], [0.22745098039215686, 0.2, 0.13333333333333333], [0.1607843137254902, 0.15294117647058825, 0.11764705882352941], [0.26666666666666666, 0.26666666666666666, 0.24313725490196078], [0.3176470588235294, 0.29411764705882354, 0.23921568627450981], [0.25098039215686274, 0.20784313725490197, 0.12156862745098039], [0.26666666666666666, 0.22745098039215686, 0.12941176470588237], [0.2901960784313726, 0.25882352941176473, 0.15294117647058825], [0.2901960784313726, 0.2627450980392157, 0.15294117647058825], [0.2980392156862745, 0.27058823529411763, 0.17254901960784313], [0.2549019607843137, 0.2235294117647059, 0.13725490196078433], [0.23921568627450981, 0.2196078431372549, 0.1450980392156863], [0.21176470588235294, 0.20392156862745098, 0.17254901960784313], [0.1450980392156863, 0.12941176470588237, 0.09019607843137255], [0.23529411764705882, 0.2196078431372549, 0.12156862745098039], [0.24313725490196078, 0.21568627450980393, 0.1568627450980392], [0.26666666666666666, 0.24313725490196078, 0.21568627450980393], [0.2784313725490196, 0.23529411764705882, 0.17254901960784313], [0.30980392156862746, 0.25882352941176473, 0.1568627450980392]], [[0.2901960784313726, 0.27058823529411763, 0.1568627450980392], [0.30196078431372547, 0.28627450980392155, 0.17254901960784313], [0.2901960784313726, 0.27450980392156865, 0.1607843137254902], [0.2901960784313726, 0.26666666666666666, 0.14901960784313725], [0.30980392156862746, 0.2784313725490196, 0.16470588235294117], [0.3333333333333333, 0.30196078431372547, 0.19215686274509805], [0.34509803921568627, 0.30980392156862746, 0.21176470588235294], [0.3215686274509804, 0.2901960784313726, 0.19607843137254902], [0.3176470588235294, 0.2901960784313726, 0.19607843137254902], [0.3058823529411765, 0.2784313725490196, 0.1843137254901961], [0.26666666666666666, 0.23921568627450981, 0.1450980392156863], [0.24313725490196078, 0.2196078431372549, 0.12941176470588237], [0.24313725490196078, 0.23137254901960785, 0.13333333333333333], [0.3058823529411765, 0.27450980392156865, 0.17647058823529413], [0.3215686274509804, 0.2901960784313726, 0.21568627450980393], [0.20392156862745098, 0.18823529411764706, 0.14901960784313725], [0.1411764705882353, 0.13725490196078433, 0.11372549019607843], [0.2627450980392157, 0.23921568627450981, 0.18823529411764706], [0.30980392156862746, 0.2627450980392157, 0.17647058823529413], [0.2980392156862745, 0.2549019607843137, 0.1607843137254902], [0.30196078431372547, 0.27058823529411763, 0.16470588235294117], [0.3333333333333333, 0.3058823529411765, 0.19607843137254902], [0.30980392156862746, 0.2823529411764706, 0.1843137254901961], [0.23137254901960785, 0.2, 0.11372549019607843], [0.24705882352941178, 0.22745098039215686, 0.15294117647058825], [0.2235294117647059, 0.21176470588235294, 0.1803921568627451], [0.12549019607843137, 0.10980392156862745, 0.06666666666666667], [0.2, 0.1803921568627451, 0.0784313725490196], [0.2196078431372549, 0.19607843137254902, 0.13333333333333333], [0.26666666666666666, 0.24313725490196078, 0.21176470588235294], [0.2901960784313726, 0.24705882352941178, 0.1803921568627451], [0.3058823529411765, 0.25882352941176473, 0.1568627450980392]], [[0.34509803921568627, 0.32941176470588235, 0.21176470588235294], [0.3215686274509804, 0.30196078431372547, 0.18823529411764706], [0.27450980392156865, 0.25882352941176473, 0.1450980392156863], [0.28627450980392155, 0.27450980392156865, 0.14901960784313725], [0.2901960784313726, 0.2784313725490196, 0.15294117647058825], [0.2901960784313726, 0.27450980392156865, 0.1607843137254902], [0.27450980392156865, 0.25882352941176473, 0.1607843137254902], [0.25882352941176473, 0.23137254901960785, 0.1450980392156863], [0.2980392156862745, 0.25882352941176473, 0.17647058823529413], [0.29411764705882354, 0.25098039215686274, 0.17254901960784313], [0.30980392156862746, 0.26666666666666666, 0.1843137254901961], [0.32941176470588235, 0.29411764705882354, 0.21176470588235294], [0.3137254901960784, 0.2980392156862745, 0.19607843137254902], [0.3176470588235294, 0.2784313725490196, 0.17647058823529413], [0.29411764705882354, 0.25098039215686274, 0.17647058823529413], [0.2235294117647059, 0.20392156862745098, 0.1568627450980392], [0.23137254901960785, 0.23137254901960785, 0.2], [0.2549019607843137, 0.23137254901960785, 0.1803921568627451], [0.26666666666666666, 0.2196078431372549, 0.13725490196078433], [0.27058823529411763, 0.22745098039215686, 0.13333333333333333], [0.2823529411764706, 0.25098039215686274, 0.1450980392156863], [0.3058823529411765, 0.2784313725490196, 0.16862745098039217], [0.27450980392156865, 0.24705882352941178, 0.14901960784313725], [0.25098039215686274, 0.2196078431372549, 0.13333333333333333], [0.23529411764705882, 0.20784313725490197, 0.12941176470588237], [0.2235294117647059, 0.19607843137254902, 0.14901960784313725], [0.22745098039215686, 0.19607843137254902, 0.13725490196078433], [0.24313725490196078, 0.20784313725490197, 0.09803921568627451], [0.23137254901960785, 0.19215686274509805, 0.11372549019607843], [0.25882352941176473, 0.23529411764705882, 0.17647058823529413], [0.28627450980392155, 0.24705882352941178, 0.16470588235294117], [0.3254901960784314, 0.27058823529411763, 0.1843137254901961]], [[0.3411764705882353, 0.3176470588235294, 0.20392156862745098], [0.3176470588235294, 0.29411764705882354, 0.1843137254901961], [0.2901960784313726, 0.26666666666666666, 0.15294117647058825], [0.25882352941176473, 0.24705882352941178, 0.13725490196078433], [0.2549019607843137, 0.24705882352941178, 0.1450980392156863], [0.2784313725490196, 0.2627450980392157, 0.16862745098039217], [0.29411764705882354, 0.27058823529411763, 0.1843137254901961], [0.2980392156862745, 0.26666666666666666, 0.1803921568627451], [0.3333333333333333, 0.2980392156862745, 0.20392156862745098], [0.35294117647058826, 0.3137254901960784, 0.2235294117647059], [0.34901960784313724, 0.3137254901960784, 0.2196078431372549], [0.3176470588235294, 0.2823529411764706, 0.19607843137254902], [0.2823529411764706, 0.2549019607843137, 0.17254901960784313], [0.29411764705882354, 0.25098039215686274, 0.16470588235294117], [0.28627450980392155, 0.24705882352941178, 0.1803921568627451], [0.2627450980392157, 0.24705882352941178, 0.20784313725490197], [0.29411764705882354, 0.2980392156862745, 0.27450980392156865], [0.2980392156862745, 0.2901960784313726, 0.23529411764705882], [0.25098039215686274, 0.2196078431372549, 0.12156862745098039], [0.2784313725490196, 0.23529411764705882, 0.12156862745098039], [0.26666666666666666, 0.22745098039215686, 0.13333333333333333], [0.29411764705882354, 0.26666666666666666, 0.1803921568627451], [0.24313725490196078, 0.21176470588235294, 0.12941176470588237], [0.2235294117647059, 0.19215686274509805, 0.11372549019607843], [0.21568627450980393, 0.1843137254901961, 0.10588235294117647], [0.21176470588235294, 0.1803921568627451, 0.11372549019607843], [0.22745098039215686, 0.19607843137254902, 0.12549019607843137], [0.23529411764705882, 0.20392156862745098, 0.11372549019607843], [0.24313725490196078, 0.20784313725490197, 0.12941176470588237], [0.2784313725490196, 0.23921568627450981, 0.1568627450980392], [0.3176470588235294, 0.27450980392156865, 0.1803921568627451], [0.3137254901960784, 0.2627450980392157, 0.17254901960784313]], [[0.3333333333333333, 0.3058823529411765, 0.19215686274509805], [0.2980392156862745, 0.27058823529411763, 0.1607843137254902], [0.30196078431372547, 0.27450980392156865, 0.16470588235294117], [0.2980392156862745, 0.2823529411764706, 0.1843137254901961], [0.29411764705882354, 0.2784313725490196, 0.19215686274509805], [0.30196078431372547, 0.2784313725490196, 0.19215686274509805], [0.32941176470588235, 0.29411764705882354, 0.21568627450980393], [0.3411764705882353, 0.30196078431372547, 0.21568627450980393], [0.3058823529411765, 0.2784313725490196, 0.17647058823529413], [0.2823529411764706, 0.2549019607843137, 0.15294117647058825], [0.27058823529411763, 0.24705882352941178, 0.1411764705882353], [0.2901960784313726, 0.25882352941176473, 0.1607843137254902], [0.29411764705882354, 0.25098039215686274, 0.1607843137254902], [0.2901960784313726, 0.23921568627450981, 0.15294117647058825], [0.3058823529411765, 0.2784313725490196, 0.21568627450980393], [0.3215686274509804, 0.3215686274509804, 0.2980392156862745], [0.3137254901960784, 0.3176470588235294, 0.30980392156862746], [0.25098039215686274, 0.24313725490196078, 0.2], [0.2235294117647059, 0.20392156862745098, 0.11372549019607843], [0.25098039215686274, 0.21176470588235294, 0.10980392156862745], [0.24313725490196078, 0.20392156862745098, 0.12156862745098039], [0.25882352941176473, 0.22745098039215686, 0.15294117647058825], [0.24705882352941178, 0.21568627450980393, 0.1450980392156863], [0.2627450980392157, 0.23137254901960785, 0.1568627450980392], [0.25098039215686274, 0.2196078431372549, 0.14901960784313725], [0.24313725490196078, 0.21568627450980393, 0.13725490196078433], [0.24705882352941178, 0.2196078431372549, 0.1450980392156863], [0.2549019607843137, 0.22745098039215686, 0.15294117647058825], [0.23529411764705882, 0.20784313725490197, 0.12941176470588237], [0.23529411764705882, 0.19215686274509805, 0.09803921568627451], [0.27058823529411763, 0.2235294117647059, 0.12941176470588237], [0.2980392156862745, 0.25098039215686274, 0.1568627450980392]], [[0.32941176470588235, 0.2980392156862745, 0.2], [0.3254901960784314, 0.2980392156862745, 0.2], [0.27450980392156865, 0.24705882352941178, 0.14901960784313725], [0.2627450980392157, 0.23921568627450981, 0.14901960784313725], [0.2627450980392157, 0.24313725490196078, 0.1568627450980392], [0.30980392156862746, 0.2784313725490196, 0.19607843137254902], [0.35294117647058826, 0.30980392156862746, 0.23137254901960785], [0.3803921568627451, 0.33725490196078434, 0.2549019607843137], [0.32941176470588235, 0.30196078431372547, 0.2], [0.2823529411764706, 0.2549019607843137, 0.15294117647058825], [0.2980392156862745, 0.27058823529411763, 0.16862745098039217], [0.30196078431372547, 0.27058823529411763, 0.16470588235294117], [0.2980392156862745, 0.25098039215686274, 0.1411764705882353], [0.3176470588235294, 0.26666666666666666, 0.16470588235294117], [0.27450980392156865, 0.25098039215686274, 0.1803921568627451], [0.2823529411764706, 0.2901960784313726, 0.2627450980392157], [0.32941176470588235, 0.3254901960784314, 0.3254901960784314], [0.2, 0.18823529411764706, 0.1568627450980392], [0.21176470588235294, 0.19215686274509805, 0.12156862745098039], [0.2, 0.16862745098039217, 0.09019607843137255], [0.21176470588235294, 0.1803921568627451, 0.10588235294117647], [0.21568627450980393, 0.1843137254901961, 0.10980392156862745], [0.23529411764705882, 0.20392156862745098, 0.12941176470588237], [0.24705882352941178, 0.21568627450980393, 0.1411764705882353], [0.24705882352941178, 0.2196078431372549, 0.1450980392156863], [0.24705882352941178, 0.2196078431372549, 0.1450980392156863], [0.23921568627450981, 0.21176470588235294, 0.13725490196078433], [0.25882352941176473, 0.23137254901960785, 0.1568627450980392], [0.26666666666666666, 0.23529411764705882, 0.1568627450980392], [0.27450980392156865, 0.23137254901960785, 0.13725490196078433], [0.33725490196078434, 0.2901960784313726, 0.19607843137254902], [0.33725490196078434, 0.2901960784313726, 0.19607843137254902]], [[0.3411764705882353, 0.30980392156862746, 0.2196078431372549], [0.3686274509803922, 0.33725490196078434, 0.24705882352941178], [0.3568627450980392, 0.3254901960784314, 0.23529411764705882], [0.29411764705882354, 0.26666666666666666, 0.1803921568627451], [0.28627450980392155, 0.25882352941176473, 0.17647058823529413], [0.35294117647058826, 0.30980392156862746, 0.23137254901960785], [0.3607843137254902, 0.30980392156862746, 0.23529411764705882], [0.36470588235294116, 0.3137254901960784, 0.23137254901960785], [0.30980392156862746, 0.2823529411764706, 0.1803921568627451], [0.25882352941176473, 0.23137254901960785, 0.12941176470588237], [0.3058823529411765, 0.2784313725490196, 0.17647058823529413], [0.34509803921568627, 0.3176470588235294, 0.21568627450980393], [0.3058823529411765, 0.2784313725490196, 0.17254901960784313], [0.30980392156862746, 0.26666666666666666, 0.16470588235294117], [0.2901960784313726, 0.25882352941176473, 0.17254901960784313], [0.24313725490196078, 0.23529411764705882, 0.1843137254901961], [0.24313725490196078, 0.2235294117647059, 0.20392156862745098], [0.20784313725490197, 0.1843137254901961, 0.1411764705882353], [0.20784313725490197, 0.18823529411764706, 0.11764705882352941], [0.2, 0.17647058823529413, 0.10588235294117647], [0.21568627450980393, 0.18823529411764706, 0.11372549019607843], [0.20784313725490197, 0.17647058823529413, 0.10196078431372549], [0.22745098039215686, 0.19607843137254902, 0.12156862745098039], [0.2235294117647059, 0.19215686274509805, 0.11764705882352941], [0.20784313725490197, 0.1803921568627451, 0.10588235294117647], [0.2235294117647059, 0.19607843137254902, 0.12156862745098039], [0.21568627450980393, 0.18823529411764706, 0.11372549019607843], [0.21176470588235294, 0.1843137254901961, 0.10980392156862745], [0.24313725490196078, 0.21176470588235294, 0.13333333333333333], [0.32941176470588235, 0.2823529411764706, 0.19215686274509805], [0.3686274509803922, 0.3215686274509804, 0.22745098039215686], [0.3607843137254902, 0.3137254901960784, 0.2196078431372549]]]]}'"
            ]
          },
          "metadata": {
            "tags": []
          },
          "execution_count": 31
        }
      ]
    },
    {
      "cell_type": "markdown",
      "metadata": {
        "id": "KZDKjyfbPoIa",
        "colab_type": "text"
      },
      "source": [
        "### Enviando a primeira requisição POST para o modelo"
      ]
    },
    {
      "cell_type": "code",
      "metadata": {
        "id": "uLLzVnVRJp7x",
        "colab_type": "code",
        "colab": {}
      },
      "source": [
        "headers = {\"content-type\": \"application/json\"}"
      ],
      "execution_count": 0,
      "outputs": []
    },
    {
      "cell_type": "code",
      "metadata": {
        "id": "ccg8lHh5J0cY",
        "colab_type": "code",
        "colab": {}
      },
      "source": [
        "json_response = requests.post(url=\"http://localhost:8501/v1/models/cifar10:predict\", data = data, headers = headers)"
      ],
      "execution_count": 0,
      "outputs": []
    },
    {
      "cell_type": "code",
      "metadata": {
        "id": "5Z2GMM-AKn_6",
        "colab_type": "code",
        "outputId": "edc5999f-909f-48d1-8089-9127fdda5c43",
        "colab": {
          "base_uri": "https://localhost:8080/",
          "height": 33
        }
      },
      "source": [
        "json_response"
      ],
      "execution_count": 34,
      "outputs": [
        {
          "output_type": "execute_result",
          "data": {
            "text/plain": [
              "<Response [200]>"
            ]
          },
          "metadata": {
            "tags": []
          },
          "execution_count": 34
        }
      ]
    },
    {
      "cell_type": "code",
      "metadata": {
        "id": "nVjM83cWK-yr",
        "colab_type": "code",
        "colab": {}
      },
      "source": [
        "predictions = json.loads(json_response.text)['predictions']"
      ],
      "execution_count": 0,
      "outputs": []
    },
    {
      "cell_type": "code",
      "metadata": {
        "id": "QKEOLZ__LHCH",
        "colab_type": "code",
        "outputId": "7c5c9576-fe85-4710-c998-a5b83d9139c3",
        "colab": {
          "base_uri": "https://localhost:8080/",
          "height": 180
        }
      },
      "source": [
        "predictions"
      ],
      "execution_count": 36,
      "outputs": [
        {
          "output_type": "execute_result",
          "data": {
            "text/plain": [
              "[[2.50432258e-05,\n",
              "  2.79375627e-06,\n",
              "  0.135574549,\n",
              "  0.000133458,\n",
              "  0.00563704316,\n",
              "  0.00620655715,\n",
              "  8.02300474e-06,\n",
              "  0.852412641,\n",
              "  6.04964689e-11,\n",
              "  3.49942972e-08]]"
            ]
          },
          "metadata": {
            "tags": []
          },
          "execution_count": 36
        }
      ]
    },
    {
      "cell_type": "code",
      "metadata": {
        "id": "abegdbY3LXIM",
        "colab_type": "code",
        "outputId": "ee4686db-7939-4b89-fc0c-fb3f2e2a642f",
        "colab": {
          "base_uri": "https://localhost:8080/",
          "height": 282
        }
      },
      "source": [
        "plt.imshow(X_test[random_image])"
      ],
      "execution_count": 37,
      "outputs": [
        {
          "output_type": "execute_result",
          "data": {
            "text/plain": [
              "<matplotlib.image.AxesImage at 0x7f942058c358>"
            ]
          },
          "metadata": {
            "tags": []
          },
          "execution_count": 37
        },
        {
          "output_type": "display_data",
          "data": {
            "image/png": "[encoded data removed]",
            "text/plain": [
              "<Figure size 432x288 with 1 Axes>"
            ]
          },
          "metadata": {
            "tags": []
          }
        }
      ]
    },
    {
      "cell_type": "code",
      "metadata": {
        "id": "7dQqqlioLq6B",
        "colab_type": "code",
        "outputId": "12c27bdd-3e75-4427-e7f4-d8bfea0118cb",
        "colab": {
          "base_uri": "https://localhost:8080/",
          "height": 33
        }
      },
      "source": [
        "class_names[np.argmax(predictions[0])]"
      ],
      "execution_count": 38,
      "outputs": [
        {
          "output_type": "execute_result",
          "data": {
            "text/plain": [
              "'horse'"
            ]
          },
          "metadata": {
            "tags": []
          },
          "execution_count": 38
        }
      ]
    },
    {
      "cell_type": "markdown",
      "metadata": {
        "id": "OVN6T3tFR_IQ",
        "colab_type": "text"
      },
      "source": [
        "## Etapa 8: Enviando a requisição POST para um modelo específico que está armazendo no servidor"
      ]
    },
    {
      "cell_type": "code",
      "metadata": {
        "id": "Z5NYumDFNINp",
        "colab_type": "code",
        "colab": {}
      },
      "source": [
        "specific_json_response = requests.post(url=\"http://localhost:8501/v1/models/cifar10/versions/1:predict\", data = data, headers = headers)"
      ],
      "execution_count": 0,
      "outputs": []
    },
    {
      "cell_type": "code",
      "metadata": {
        "id": "KYYS3vXTPoHv",
        "colab_type": "code",
        "outputId": "c408f166-b9d2-4c96-d7e3-4393304a0e60",
        "colab": {
          "base_uri": "https://localhost:8080/",
          "height": 33
        }
      },
      "source": [
        "specific_json_response"
      ],
      "execution_count": 40,
      "outputs": [
        {
          "output_type": "execute_result",
          "data": {
            "text/plain": [
              "<Response [200]>"
            ]
          },
          "metadata": {
            "tags": []
          },
          "execution_count": 40
        }
      ]
    }
  ]
}